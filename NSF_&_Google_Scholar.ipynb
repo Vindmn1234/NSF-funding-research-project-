{
  "cells": [
    {
      "cell_type": "markdown",
      "metadata": {
        "id": "yZA8dVFisev0"
      },
      "source": [
        "# Import libraries"
      ]
    },
    {
      "cell_type": "code",
      "execution_count": 1,
      "metadata": {
        "colab": {
          "base_uri": "https://localhost:8080/"
        },
        "id": "l43IGp9nseLY",
        "outputId": "bbcea147-ac79-4a9b-aee6-a2a49f6955a4"
      },
      "outputs": [],
      "source": [
        "import os\n",
        "import pandas as pd"
      ]
    },
    {
      "cell_type": "markdown",
      "metadata": {},
      "source": [
        "# Import web scraping helper functions"
      ]
    },
    {
      "cell_type": "code",
      "execution_count": 2,
      "metadata": {},
      "outputs": [],
      "source": [
        "import scraping_helper_functions.get_all_NSF as get_all_NSF\n",
        "import scraping_helper_functions.get_author_info as get_author_info\n",
        "import scraping_helper_functions.get_pub_info as get_pub_info"
      ]
    },
    {
      "cell_type": "markdown",
      "metadata": {
        "id": "7d14toXYsmiy"
      },
      "source": [
        "# Load NSF data (from 2011 to 2020)"
      ]
    },
    {
      "cell_type": "markdown",
      "metadata": {
        "id": "Q9VGY9EitlcC"
      },
      "source": [
        "This is a website introducing the directory and affiliated divisions: https://new.nsf.gov/about/directorates-offices\n",
        "\n",
        "In this project, we focus on the Division Of Behavioral and Cognitive Science affiliated in the Directory For Social, Behavioral & Economic Science. In addition, we choose 2011 to 2020 as the 10-year range, based on which we scrape NSF awarding information."
      ]
    },
    {
      "cell_type": "markdown",
      "metadata": {},
      "source": [
        "- `funding_info_2011_2020` table\n",
        "    - first_name: first name of funded authors\n",
        "    - middle_name: middle name of funded authors\n",
        "    - last_name: last name of funded authors\n",
        "    - email: email address of funded authors \n",
        "    - directorate: directorate of NSF foundation\n",
        "    - division: division under the directorate of NSF foundation\n",
        "    - effective_date: the date when the funding begins\n",
        "    - expiration_date: the date when the funding expires\n",
        "    - award_amount: NSF funding amount\n",
        "    - award_title: title of awared projects\n",
        "    - abstract: abstract used for NSF funding proposal\n",
        "    - year: year at which the author is awarded"
      ]
    },
    {
      "cell_type": "code",
      "execution_count": 3,
      "metadata": {},
      "outputs": [],
      "source": [
        "nsf_data_file_path = 'database/funding_info_2011_2020.csv'\n",
        "\n",
        "if os.path.exists(nsf_data_file_path):\n",
        "    nsf_df = pd.read_csv(nsf_data_file_path)\n",
        "else:\n",
        "    nsf_df = get_all_NSF.process_all_folders(base_path=\"nsf_data\", \n",
        "                                             start_year=2011, end_year=2020, \n",
        "                                             filter_directorate=\"Direct For Social, Behav & Economic Scie\", \n",
        "                                             filter_division=\"Division Of Behavioral and Cognitive Sci\")\n",
        "    nsf_df.to_csv(nsf_data_file_path, index=False)"
      ]
    },
    {
      "cell_type": "code",
      "execution_count": 4,
      "metadata": {
        "colab": {
          "base_uri": "https://localhost:8080/",
          "height": 206
        },
        "id": "vahCdjONw_x8",
        "outputId": "3ee02e51-8c67-4a11-d699-8acbac06d2a0"
      },
      "outputs": [
        {
          "data": {
            "text/html": [
              "<div>\n",
              "<style scoped>\n",
              "    .dataframe tbody tr th:only-of-type {\n",
              "        vertical-align: middle;\n",
              "    }\n",
              "\n",
              "    .dataframe tbody tr th {\n",
              "        vertical-align: top;\n",
              "    }\n",
              "\n",
              "    .dataframe thead th {\n",
              "        text-align: right;\n",
              "    }\n",
              "</style>\n",
              "<table border=\"1\" class=\"dataframe\">\n",
              "  <thead>\n",
              "    <tr style=\"text-align: right;\">\n",
              "      <th></th>\n",
              "      <th>first_name</th>\n",
              "      <th>middle_name</th>\n",
              "      <th>last_name</th>\n",
              "      <th>email</th>\n",
              "      <th>institution</th>\n",
              "      <th>directorate</th>\n",
              "      <th>division</th>\n",
              "      <th>effective_date</th>\n",
              "      <th>expiration_date</th>\n",
              "      <th>award_amount</th>\n",
              "      <th>award_title</th>\n",
              "      <th>abstract</th>\n",
              "      <th>year</th>\n",
              "    </tr>\n",
              "  </thead>\n",
              "  <tbody>\n",
              "    <tr>\n",
              "      <th>0</th>\n",
              "      <td>Jean</td>\n",
              "      <td>NaN</td>\n",
              "      <td>Comaroff</td>\n",
              "      <td>jcomaro@uchicago.edu</td>\n",
              "      <td>University of Chicago</td>\n",
              "      <td>Direct For Social, Behav &amp; Economic Scie</td>\n",
              "      <td>Division Of Behavioral and Cognitive Sci</td>\n",
              "      <td>02/01/2011</td>\n",
              "      <td>01/31/2013</td>\n",
              "      <td>20000</td>\n",
              "      <td>Doctoral Dissertation Research: The Role of Kn...</td>\n",
              "      <td>University of Chicago doctoral student Brenden...</td>\n",
              "      <td>2011</td>\n",
              "    </tr>\n",
              "    <tr>\n",
              "      <th>1</th>\n",
              "      <td>Talal</td>\n",
              "      <td>NaN</td>\n",
              "      <td>Asad</td>\n",
              "      <td>talalasad@earthlink.net</td>\n",
              "      <td>CUNY Graduate School University Center</td>\n",
              "      <td>Direct For Social, Behav &amp; Economic Scie</td>\n",
              "      <td>Division Of Behavioral and Cognitive Sci</td>\n",
              "      <td>01/01/2011</td>\n",
              "      <td>09/30/2012</td>\n",
              "      <td>19901</td>\n",
              "      <td>Doctoral Dissertation Research: Mental Disorde...</td>\n",
              "      <td>Doctoral student Ana Maria Vinea (Graduate Cen...</td>\n",
              "      <td>2011</td>\n",
              "    </tr>\n",
              "    <tr>\n",
              "      <th>2</th>\n",
              "      <td>John</td>\n",
              "      <td>NaN</td>\n",
              "      <td>Cherry</td>\n",
              "      <td>John_Cherry@brown.edu</td>\n",
              "      <td>Brown University</td>\n",
              "      <td>Direct For Social, Behav &amp; Economic Scie</td>\n",
              "      <td>Division Of Behavioral and Cognitive Sci</td>\n",
              "      <td>01/01/2011</td>\n",
              "      <td>06/30/2012</td>\n",
              "      <td>14820</td>\n",
              "      <td>Doctoral Dissertation Improvement Grant: Rethi...</td>\n",
              "      <td>In collaboration with the Central Lydia Archae...</td>\n",
              "      <td>2011</td>\n",
              "    </tr>\n",
              "    <tr>\n",
              "      <th>3</th>\n",
              "      <td>Leaf</td>\n",
              "      <td>NaN</td>\n",
              "      <td>Van Boven</td>\n",
              "      <td>vanboven@colorado.edu</td>\n",
              "      <td>University of Colorado at Boulder</td>\n",
              "      <td>Direct For Social, Behav &amp; Economic Scie</td>\n",
              "      <td>Division Of Behavioral and Cognitive Sci</td>\n",
              "      <td>04/01/2011</td>\n",
              "      <td>03/31/2015</td>\n",
              "      <td>250000</td>\n",
              "      <td>EAGER: Perceiving Political Distributions</td>\n",
              "      <td>The present research focuses on motivated poli...</td>\n",
              "      <td>2011</td>\n",
              "    </tr>\n",
              "    <tr>\n",
              "      <th>4</th>\n",
              "      <td>Steven</td>\n",
              "      <td>NaN</td>\n",
              "      <td>Bedrick</td>\n",
              "      <td>bedricks@ohsu.edu</td>\n",
              "      <td>Oregon Health &amp; Science University</td>\n",
              "      <td>Direct For Social, Behav &amp; Economic Scie</td>\n",
              "      <td>Division Of Behavioral and Cognitive Sci</td>\n",
              "      <td>04/01/2011</td>\n",
              "      <td>09/30/2013</td>\n",
              "      <td>114140</td>\n",
              "      <td>Corpora of Non-Linguistic Symbol Systems, and ...</td>\n",
              "      <td>Throughout the millenia, humans have used grap...</td>\n",
              "      <td>2011</td>\n",
              "    </tr>\n",
              "  </tbody>\n",
              "</table>\n",
              "</div>"
            ],
            "text/plain": [
              "  first_name middle_name  last_name                    email  \\\n",
              "0       Jean         NaN   Comaroff     jcomaro@uchicago.edu   \n",
              "1      Talal         NaN       Asad  talalasad@earthlink.net   \n",
              "2       John         NaN     Cherry    John_Cherry@brown.edu   \n",
              "3       Leaf         NaN  Van Boven    vanboven@colorado.edu   \n",
              "4     Steven         NaN    Bedrick        bedricks@ohsu.edu   \n",
              "\n",
              "                              institution  \\\n",
              "0                   University of Chicago   \n",
              "1  CUNY Graduate School University Center   \n",
              "2                        Brown University   \n",
              "3       University of Colorado at Boulder   \n",
              "4      Oregon Health & Science University   \n",
              "\n",
              "                                directorate  \\\n",
              "0  Direct For Social, Behav & Economic Scie   \n",
              "1  Direct For Social, Behav & Economic Scie   \n",
              "2  Direct For Social, Behav & Economic Scie   \n",
              "3  Direct For Social, Behav & Economic Scie   \n",
              "4  Direct For Social, Behav & Economic Scie   \n",
              "\n",
              "                                   division effective_date expiration_date  \\\n",
              "0  Division Of Behavioral and Cognitive Sci     02/01/2011      01/31/2013   \n",
              "1  Division Of Behavioral and Cognitive Sci     01/01/2011      09/30/2012   \n",
              "2  Division Of Behavioral and Cognitive Sci     01/01/2011      06/30/2012   \n",
              "3  Division Of Behavioral and Cognitive Sci     04/01/2011      03/31/2015   \n",
              "4  Division Of Behavioral and Cognitive Sci     04/01/2011      09/30/2013   \n",
              "\n",
              "   award_amount                                        award_title  \\\n",
              "0         20000  Doctoral Dissertation Research: The Role of Kn...   \n",
              "1         19901  Doctoral Dissertation Research: Mental Disorde...   \n",
              "2         14820  Doctoral Dissertation Improvement Grant: Rethi...   \n",
              "3        250000          EAGER: Perceiving Political Distributions   \n",
              "4        114140  Corpora of Non-Linguistic Symbol Systems, and ...   \n",
              "\n",
              "                                            abstract  year  \n",
              "0  University of Chicago doctoral student Brenden...  2011  \n",
              "1  Doctoral student Ana Maria Vinea (Graduate Cen...  2011  \n",
              "2  In collaboration with the Central Lydia Archae...  2011  \n",
              "3  The present research focuses on motivated poli...  2011  \n",
              "4  Throughout the millenia, humans have used grap...  2011  "
            ]
          },
          "execution_count": 4,
          "metadata": {},
          "output_type": "execute_result"
        }
      ],
      "source": [
        "nsf_df.head()"
      ]
    },
    {
      "cell_type": "markdown",
      "metadata": {
        "id": "v5w1mSiSvbL3"
      },
      "source": [
        "# Dynamically scrape the author_info about the author on the NSF award list"
      ]
    },
    {
      "cell_type": "markdown",
      "metadata": {},
      "source": [
        "- `author_info_<year>` table\n",
        "    - first_name: first name of funded authors\n",
        "    - middle_name: middle name of funded authors\n",
        "    - last_name: last name of funded authors\n",
        "    - email: funded authors' email address\n",
        "    - institution: funded author' affiliation (university or institutions)\n",
        "    - url: funded authors' Google Scholar Page\n",
        "    - interests: funded authors' research interests\n",
        "    - total_citations: funded authors'total number of citations \n",
        "    - h_index: funded authors' h-index\n",
        "    - The remaing seven columns are citation number 3 years before and after the awarded year"
      ]
    },
    {
      "cell_type": "code",
      "execution_count": 5,
      "metadata": {},
      "outputs": [
        {
          "ename": "TypeError",
          "evalue": "retrieve_author_info() missing 1 required positional argument: 'driver'",
          "output_type": "error",
          "traceback": [
            "\u001b[0;31m---------------------------------------------------------------------------\u001b[0m",
            "\u001b[0;31mTypeError\u001b[0m                                 Traceback (most recent call last)",
            "Cell \u001b[0;32mIn[5], line 4\u001b[0m\n\u001b[1;32m      1\u001b[0m \u001b[38;5;66;03m# A sample use of getting author info for a specific year \u001b[39;00m\n\u001b[1;32m      2\u001b[0m \u001b[38;5;66;03m# (remember to replace the `year` argument!)\u001b[39;00m\n\u001b[1;32m      3\u001b[0m \u001b[38;5;28;01mif\u001b[39;00m \u001b[38;5;129;01mnot\u001b[39;00m os\u001b[38;5;241m.\u001b[39mpath\u001b[38;5;241m.\u001b[39mexists(\u001b[38;5;124mf\u001b[39m\u001b[38;5;124m\"\u001b[39m\u001b[38;5;124mdatabase/author_info_2018.csv\u001b[39m\u001b[38;5;124m\"\u001b[39m):\n\u001b[0;32m----> 4\u001b[0m     author_info_18 \u001b[38;5;241m=\u001b[39m get_author_info\u001b[38;5;241m.\u001b[39mretrieve_author_info(nsf_df, \u001b[38;5;241m2018\u001b[39m)\n",
            "\u001b[0;31mTypeError\u001b[0m: retrieve_author_info() missing 1 required positional argument: 'driver'"
          ]
        }
      ],
      "source": [
        "# A sample use of getting author info for a specific year \n",
        "# (remember to replace the `year` argument!)\n",
        "if not os.path.exists(f\"database/author_info_2018.csv\"):\n",
        "    author_info_18 = get_author_info.safe_retrieve_author_info(nsf_df, 2018)"
      ]
    },
    {
      "cell_type": "markdown",
      "metadata": {},
      "source": [
        "# Dynamically scrape the pub_info about the author on the NSF award list"
      ]
    },
    {
      "cell_type": "markdown",
      "metadata": {},
      "source": [
        "- `pub_info_<year1>_<year2>` table (3 years before and after the awarded year)\n",
        "    - first_name: first name of funded authors\n",
        "    - middle_name: middle name of funded authors\n",
        "    - last_name: last name of funded authors\n",
        "    - email: email address of funded authors\n",
        "    - Title: title of the publication (paper)\n",
        "    - Year: year of publication\n",
        "    - Cited by: number of citation in total\n",
        "    - Paper URL: url that leads to paper details (e.g., abstract) after one click\n",
        "    - Authors: all authors of the publication\n",
        "    - Publication date: specific date of publication\n",
        "    - Journal: journal of the article\n",
        "    - Abstract: abstract of funded authors' one specific paper\n",
        "    - Citations: yearly breakdown of citation (a dictionary)"
      ]
    },
    {
      "cell_type": "code",
      "execution_count": null,
      "metadata": {},
      "outputs": [],
      "source": [
        "if not os.path.exists(f\"database/pub_info_{2018}.csv\"):\n",
        "    get_pub_info.generate_pub_info_table(2018)"
      ]
    }
  ],
  "metadata": {
    "colab": {
      "provenance": []
    },
    "kernelspec": {
      "display_name": "base",
      "language": "python",
      "name": "python3"
    },
    "language_info": {
      "codemirror_mode": {
        "name": "ipython",
        "version": 3
      },
      "file_extension": ".py",
      "mimetype": "text/x-python",
      "name": "python",
      "nbconvert_exporter": "python",
      "pygments_lexer": "ipython3",
      "version": "3.11.4"
    }
  },
  "nbformat": 4,
  "nbformat_minor": 0
}
