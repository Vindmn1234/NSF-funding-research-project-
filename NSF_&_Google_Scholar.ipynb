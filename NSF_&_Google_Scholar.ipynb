{
  "cells": [
    {
      "cell_type": "markdown",
      "metadata": {
        "id": "yZA8dVFisev0"
      },
      "source": [
        "# Import libraries"
      ]
    },
    {
      "cell_type": "code",
      "execution_count": 1,
      "metadata": {
        "colab": {
          "base_uri": "https://localhost:8080/"
        },
        "id": "l43IGp9nseLY",
        "outputId": "bbcea147-ac79-4a9b-aee6-a2a49f6955a4"
      },
      "outputs": [],
      "source": [
        "import os\n",
        "import pandas as pd"
      ]
    },
    {
      "cell_type": "markdown",
      "metadata": {},
      "source": [
        "# Import web scraping helper functions"
      ]
    },
    {
      "cell_type": "code",
      "execution_count": 2,
      "metadata": {},
      "outputs": [],
      "source": [
        "import scraping_helper_functions.get_all_NSF as get_all_NSF\n",
        "import scraping_helper_functions.get_author_info as get_author_info\n",
        "import scraping_helper_functions.get_pub_info as get_pub_info"
      ]
    },
    {
      "cell_type": "markdown",
      "metadata": {
        "id": "7d14toXYsmiy"
      },
      "source": [
        "# Load NSF data (from 2011 to 2020)"
      ]
    },
    {
      "cell_type": "markdown",
      "metadata": {
        "id": "Q9VGY9EitlcC"
      },
      "source": [
        "This is a website introducing the directory and affiliated divisions: https://new.nsf.gov/about/directorates-offices\n",
        "\n",
        "In this project, we focus on the Division Of Behavioral and Cognitive Science affiliated in the Directory For Social, Behavioral & Economic Science. In addition, we choose 2011 to 2020 as the 10-year range, based on which we scrape NSF awarding information."
      ]
    },
    {
      "cell_type": "markdown",
      "metadata": {},
      "source": [
        "- `funding_info_2011_2020` table\n",
        "    - first_name: first name of funded authors\n",
        "    - middle_name: middle name of funded authors\n",
        "    - last_name: last name of funded authors\n",
        "    - email: email address of funded authors \n",
        "    - directorate: directorate of NSF foundation\n",
        "    - division: division under the directorate of NSF foundation\n",
        "    - effective_date: the date when the funding begins\n",
        "    - expiration_date: the date when the funding expires\n",
        "    - award_amount: NSF funding amount\n",
        "    - award_title: title of awared projects\n",
        "    - abstract: abstract used for NSF funding proposal\n",
        "    - year: year at which the author is awarded"
      ]
    },
    {
      "cell_type": "code",
      "execution_count": 4,
      "metadata": {},
      "outputs": [],
      "source": [
        "nsf_data_file_path = 'database/funding_info_2011_2020.csv'\n",
        "\n",
        "if os.path.exists(nsf_data_file_path):\n",
        "    nsf_df = pd.read_csv(nsf_data_file_path)\n",
        "else:\n",
        "    nsf_df = get_all_NSF.process_all_folders(base_path=\"nsf_data\", \n",
        "                                             start_year=2011, end_year=2020, \n",
        "                                             filter_directorate=\"Direct For Social, Behav & Economic Scie\", \n",
        "                                             filter_division=\"Division Of Behavioral and Cognitive Sci\")\n",
        "    nsf_df.to_csv(nsf_data_file_path, index=False)"
      ]
    },
    {
      "cell_type": "code",
      "execution_count": 5,
      "metadata": {
        "colab": {
          "base_uri": "https://localhost:8080/",
          "height": 206
        },
        "id": "vahCdjONw_x8",
        "outputId": "3ee02e51-8c67-4a11-d699-8acbac06d2a0"
      },
      "outputs": [
        {
          "data": {
            "text/html": [
              "<div>\n",
              "<style scoped>\n",
              "    .dataframe tbody tr th:only-of-type {\n",
              "        vertical-align: middle;\n",
              "    }\n",
              "\n",
              "    .dataframe tbody tr th {\n",
              "        vertical-align: top;\n",
              "    }\n",
              "\n",
              "    .dataframe thead th {\n",
              "        text-align: right;\n",
              "    }\n",
              "</style>\n",
              "<table border=\"1\" class=\"dataframe\">\n",
              "  <thead>\n",
              "    <tr style=\"text-align: right;\">\n",
              "      <th></th>\n",
              "      <th>first_name</th>\n",
              "      <th>middle_name</th>\n",
              "      <th>last_name</th>\n",
              "      <th>email</th>\n",
              "      <th>institution</th>\n",
              "      <th>directorate</th>\n",
              "      <th>division</th>\n",
              "      <th>effective_date</th>\n",
              "      <th>expiration_date</th>\n",
              "      <th>award_amount</th>\n",
              "      <th>award_title</th>\n",
              "      <th>abstract</th>\n",
              "      <th>year</th>\n",
              "    </tr>\n",
              "  </thead>\n",
              "  <tbody>\n",
              "    <tr>\n",
              "      <th>0</th>\n",
              "      <td>Jean</td>\n",
              "      <td>NaN</td>\n",
              "      <td>Comaroff</td>\n",
              "      <td>jcomaro@uchicago.edu</td>\n",
              "      <td>University of Chicago</td>\n",
              "      <td>Direct For Social, Behav &amp; Economic Scie</td>\n",
              "      <td>Division Of Behavioral and Cognitive Sci</td>\n",
              "      <td>02/01/2011</td>\n",
              "      <td>01/31/2013</td>\n",
              "      <td>20000</td>\n",
              "      <td>Doctoral Dissertation Research: The Role of Kn...</td>\n",
              "      <td>University of Chicago doctoral student Brenden...</td>\n",
              "      <td>2011</td>\n",
              "    </tr>\n",
              "    <tr>\n",
              "      <th>1</th>\n",
              "      <td>Talal</td>\n",
              "      <td>NaN</td>\n",
              "      <td>Asad</td>\n",
              "      <td>talalasad@earthlink.net</td>\n",
              "      <td>CUNY Graduate School University Center</td>\n",
              "      <td>Direct For Social, Behav &amp; Economic Scie</td>\n",
              "      <td>Division Of Behavioral and Cognitive Sci</td>\n",
              "      <td>01/01/2011</td>\n",
              "      <td>09/30/2012</td>\n",
              "      <td>19901</td>\n",
              "      <td>Doctoral Dissertation Research: Mental Disorde...</td>\n",
              "      <td>Doctoral student Ana Maria Vinea (Graduate Cen...</td>\n",
              "      <td>2011</td>\n",
              "    </tr>\n",
              "    <tr>\n",
              "      <th>2</th>\n",
              "      <td>John</td>\n",
              "      <td>NaN</td>\n",
              "      <td>Cherry</td>\n",
              "      <td>John_Cherry@brown.edu</td>\n",
              "      <td>Brown University</td>\n",
              "      <td>Direct For Social, Behav &amp; Economic Scie</td>\n",
              "      <td>Division Of Behavioral and Cognitive Sci</td>\n",
              "      <td>01/01/2011</td>\n",
              "      <td>06/30/2012</td>\n",
              "      <td>14820</td>\n",
              "      <td>Doctoral Dissertation Improvement Grant: Rethi...</td>\n",
              "      <td>In collaboration with the Central Lydia Archae...</td>\n",
              "      <td>2011</td>\n",
              "    </tr>\n",
              "    <tr>\n",
              "      <th>3</th>\n",
              "      <td>Leaf</td>\n",
              "      <td>NaN</td>\n",
              "      <td>Van Boven</td>\n",
              "      <td>vanboven@colorado.edu</td>\n",
              "      <td>University of Colorado at Boulder</td>\n",
              "      <td>Direct For Social, Behav &amp; Economic Scie</td>\n",
              "      <td>Division Of Behavioral and Cognitive Sci</td>\n",
              "      <td>04/01/2011</td>\n",
              "      <td>03/31/2015</td>\n",
              "      <td>250000</td>\n",
              "      <td>EAGER: Perceiving Political Distributions</td>\n",
              "      <td>The present research focuses on motivated poli...</td>\n",
              "      <td>2011</td>\n",
              "    </tr>\n",
              "    <tr>\n",
              "      <th>4</th>\n",
              "      <td>Steven</td>\n",
              "      <td>NaN</td>\n",
              "      <td>Bedrick</td>\n",
              "      <td>bedricks@ohsu.edu</td>\n",
              "      <td>Oregon Health &amp; Science University</td>\n",
              "      <td>Direct For Social, Behav &amp; Economic Scie</td>\n",
              "      <td>Division Of Behavioral and Cognitive Sci</td>\n",
              "      <td>04/01/2011</td>\n",
              "      <td>09/30/2013</td>\n",
              "      <td>114140</td>\n",
              "      <td>Corpora of Non-Linguistic Symbol Systems, and ...</td>\n",
              "      <td>Throughout the millenia, humans have used grap...</td>\n",
              "      <td>2011</td>\n",
              "    </tr>\n",
              "  </tbody>\n",
              "</table>\n",
              "</div>"
            ],
            "text/plain": [
              "  first_name middle_name  last_name                    email  \\\n",
              "0       Jean         NaN   Comaroff     jcomaro@uchicago.edu   \n",
              "1      Talal         NaN       Asad  talalasad@earthlink.net   \n",
              "2       John         NaN     Cherry    John_Cherry@brown.edu   \n",
              "3       Leaf         NaN  Van Boven    vanboven@colorado.edu   \n",
              "4     Steven         NaN    Bedrick        bedricks@ohsu.edu   \n",
              "\n",
              "                              institution  \\\n",
              "0                   University of Chicago   \n",
              "1  CUNY Graduate School University Center   \n",
              "2                        Brown University   \n",
              "3       University of Colorado at Boulder   \n",
              "4      Oregon Health & Science University   \n",
              "\n",
              "                                directorate  \\\n",
              "0  Direct For Social, Behav & Economic Scie   \n",
              "1  Direct For Social, Behav & Economic Scie   \n",
              "2  Direct For Social, Behav & Economic Scie   \n",
              "3  Direct For Social, Behav & Economic Scie   \n",
              "4  Direct For Social, Behav & Economic Scie   \n",
              "\n",
              "                                   division effective_date expiration_date  \\\n",
              "0  Division Of Behavioral and Cognitive Sci     02/01/2011      01/31/2013   \n",
              "1  Division Of Behavioral and Cognitive Sci     01/01/2011      09/30/2012   \n",
              "2  Division Of Behavioral and Cognitive Sci     01/01/2011      06/30/2012   \n",
              "3  Division Of Behavioral and Cognitive Sci     04/01/2011      03/31/2015   \n",
              "4  Division Of Behavioral and Cognitive Sci     04/01/2011      09/30/2013   \n",
              "\n",
              "   award_amount                                        award_title  \\\n",
              "0         20000  Doctoral Dissertation Research: The Role of Kn...   \n",
              "1         19901  Doctoral Dissertation Research: Mental Disorde...   \n",
              "2         14820  Doctoral Dissertation Improvement Grant: Rethi...   \n",
              "3        250000          EAGER: Perceiving Political Distributions   \n",
              "4        114140  Corpora of Non-Linguistic Symbol Systems, and ...   \n",
              "\n",
              "                                            abstract  year  \n",
              "0  University of Chicago doctoral student Brenden...  2011  \n",
              "1  Doctoral student Ana Maria Vinea (Graduate Cen...  2011  \n",
              "2  In collaboration with the Central Lydia Archae...  2011  \n",
              "3  The present research focuses on motivated poli...  2011  \n",
              "4  Throughout the millenia, humans have used grap...  2011  "
            ]
          },
          "execution_count": 5,
          "metadata": {},
          "output_type": "execute_result"
        }
      ],
      "source": [
        "nsf_df.head()"
      ]
    },
    {
      "cell_type": "markdown",
      "metadata": {
        "id": "v5w1mSiSvbL3"
      },
      "source": [
        "# Dynamically scrape the author_info about the author on the NSF award list"
      ]
    },
    {
      "cell_type": "markdown",
      "metadata": {},
      "source": [
        "- `author_info_<year>` table\n",
        "    - email: funded authors' email address\n",
        "    - url: funded authors' Google Scholar Page\n",
        "    - interests: funded authors' research interests\n",
        "    - affiliation: funded author' affiliation (university or institutions)\n",
        "    - total_citations: funded authors'total number of citations \n",
        "    - h_index: funded authors' h-index\n",
        "    - citation_5_year_before_sum: funded authors' total number of citations within 5 years before when they were awarded\n",
        "    - citation_5_year_after_sum: funded authors' total number of citations within 5 years after when they were awarded"
      ]
    },
    {
      "cell_type": "code",
      "execution_count": 4,
      "metadata": {},
      "outputs": [],
      "source": [
        "# Define a year of interest\n",
        "year = 2018"
      ]
    },
    {
      "cell_type": "code",
      "execution_count": null,
      "metadata": {},
      "outputs": [],
      "source": [
        "# A sample use of getting author info for a specific year \n",
        "# (remember to replace the `year` argument!)\n",
        "if not os.path.exists(f\"author_info_{year}.csv\"):\n",
        "    get_author_info.retrieve_author_info(nsf_df, year)"
      ]
    },
    {
      "cell_type": "code",
      "execution_count": null,
      "metadata": {},
      "outputs": [],
      "source": [
        "get_author_info.retrieve_author_info(nsf_df[nsf_df[\"year\"] == 2018].iloc[:52], year)"
      ]
    },
    {
      "cell_type": "markdown",
      "metadata": {},
      "source": [
        "# Dynamically scrape the pub_info about the author on the NSF award list"
      ]
    },
    {
      "cell_type": "markdown",
      "metadata": {},
      "source": [
        "- `pub_info_<year1>_<year2>` table\n",
        "    - Title: title of the publication (paper)\n",
        "    - Year: year of publication\n",
        "    - Cited by: number of citation in total\n",
        "    - Paper URL: url that leads to paper details (e.g., abstract) after one click\n",
        "    - email: email \n",
        "    - url: funded authors' Google Scholar Page\n",
        "    - Publication date: data of publication\n",
        "    - Journal: journal of the article\n",
        "    - abstract: abstract of funded authors' one specific paper\n",
        "    - year: publication year of funded authors' one specific paper\n",
        "    - Citations: yearly breakdown of citation\n",
        "\n",
        "Change it tomorrow"
      ]
    },
    {
      "cell_type": "code",
      "execution_count": 5,
      "metadata": {},
      "outputs": [
        {
          "name": "stdout",
          "output_type": "stream",
          "text": [
            "{'Authors': 'AN Underhill, CD Hirsch, MD Clark', 'Publication Date': '2020/4/24', 'Journal': 'Plant Phenomics', 'Abstract': 'Grape berry color is an economically important trait that is controlled by two major genes influencing anthocyanin synthesis in the skin. Color is often described qualitatively using six major categories; however, this is a subjective rating that often fails to describe variation within these six classes. To investigate minor genes influencing berry color, image analysis was used to quantify berry color using different color spaces. An image analysis pipeline was developed and utilized to quantify color in a segregating hybrid wine grape population across two years. Images were collected from grape clusters immediately after harvest and segmented by color to determine the red, green, and blue (RGB); hue, saturation, and intensity (HSI); and lightness, red-green, and blue-yellow values (L∗ a∗ b∗) of berries. QTL analysis identified known major QTL for color on chromosome 2 along with several previously unreported …', 'Citations': {'2020': '1', '2021': '5', '2022': '6', '2023': '6'}}\n",
            "{'Authors': 'Anna Underhill, Cory Hirsch, Matthew Clark', 'Publication Date': '2020/11/1', 'Journal': 'Journal of the American Society for Horticultural Science', 'Abstract': 'Grape (Vitis vinifera) cluster compactness is an important trait due to its effect on disease susceptibility, but visual evaluation of compactness relies on human judgement and an ordinal scale that is not appropriate for all populations. We developed an image analysis pipeline and used it to quantify cluster compactness traits in a segregating hybrid wine grape (Vitis sp.) population for 2 years. Images were collected from grape clusters immediately after harvest, segmented by color, and analyzed using a custom script. Both automated and conventional phenotyping methods were used, and comparisons were made between each method. A partial least squares (PLS) model was constructed to evaluate the prediction of physical cluster compactness using image-derived measurements. Quantitative trait loci (QTL) on chromosomes 4, 9, 12, 16, and 17 were associated with both image-derived and conventionally …', 'Citations': {'2022': '5', '2023': '6', '2024': '2'}}\n",
            "{'Authors': 'Lu Yin, Avinash Karn, Lance Cadle-Davidson, Cheng Zou, Anna Underhill, Paul Atkins, Erin Treiber, Daniel Voytas, Matthew Clark', 'Publication Date': '2021', 'Journal': 'Frontiers in Plant Science', 'Abstract': 'Segregation for leaf trichome density was observed in a cold-hardy hybrid grape population GE1025 (N = ∼125, MN1264 × MN1246) that was previously used to detect a quantitative trait locus (QTL) underlying foliar phylloxera resistance on chromosome 14. Our hypothesis was that high trichome density was associated with resistance to phylloxera. Existing literature found trichome density QTL on chromosomes 1 and 15 using a hybrid grape population of “Horizon” × Illinois 547-1 and suggested a few candidate genes. To validate the reported QTL and our hypothesis, interval mapping was conducted in GE1025 with previous genotyping-by-sequencing (GBS) single nucleotide polymorphism (SNP) genotype data and phenotypic scores collected using a 0–6 trichome density scale at several leaf positions. Evaluations were done on replicated forced dormant cuttings in 2 years and on field-grown leaves in 1 year. There was no strong relationship between trichome density and phylloxera resistance except for a Pearson’s correlation (r) of about -0.2 between a few trichome density traits and phylloxera severity traits at 2 and 3 weeks after infestation. Two genetic regions were repeatedly detected for multiple trichome density traits: from 10 to 20.7 Mbp (∼10 Mbp) on chromosome 1 for ribbon and simple density traits and from 2.4 to 8.9 Mbp on chromosome 10 for ribbon density traits, explaining 12.1–48.2 and 12.6–27.5% of phenotypic variation, respectively. To fine map, we genotyped a larger population, GE1783 (N = ∼1,023, MN1264 × MN1246), with conserved rhAmpSeq haplotype markers across multiple Vitis species and phenotyped 233 …', 'Citations': {'2021': '2', '2022': '5', '2023': '4', '2024': '1'}}\n",
            "{'Authors': 'Tian Qiu, Anna Underhill, Surya Datta Sapkota, Lance Cadle-Davidson, Yu Jiang', 'Publication Date': '2021', 'Journal': 'journal not found', 'Abstract': 'Powdery mildew (PM) is one of the most widespread plant diseases and can damage a wide range of crops, causing significant economic losses annually. This urges the breeding of PM resistant crop cultivars and the development of management practices. A major bottleneck is the accuracy and efficiency of image analysis at the microscopic level, which is essential to understand PM infection and accelerate crop breeding and management practice development. The overall goal of this study was to develop a deep learning-based saliency map approach that can quantify PM infection in images of high spatial resolution. A subset of a total of 2690 images of 1-cm leaf disks was randomly selected to extract a total of 21,162 image patches of 224x224 pixels. A custom thresholding method was used to mask out irrelevant background information from a leaf disk image. The remaining image part was cropped into …', 'Citations': {'2022': '2'}}\n",
            "{'Authors': 'L Moreira, A Underhill, M Clark', 'Publication Date': '2018/7/15', 'Journal': 'XII International Conference on Grapevine Breeding and Genetics 1248', 'Abstract': 'The University of Minnesota grape breeding program has evaluated a small number of cold-hardy cultivars and advanced selections for postharvest storage traits. This is the first experiment for comparing advanced selections to table-grape cultivars for these traits. Nine genotypes were evaluated for cluster weight and fruit chemistry at harvest. Three clusters per genotype were packed in ventilated polyethylene bags and arranged in carton boxes. Paper pads and SO 2 pads were placed on top of the bunches in each carton. The cartons were stored at 2.2 C for 2, 4, 6, and 8 weeks. Clusters were destructively sampled at each storage time point and evaluated for change in fruit weight, berry splitting, berry decay, juice chemistry, and an overall rating of acceptability. An advanced selection,‘MN1296’, was the top-performing seedless cultivar for overall acceptability for postharvest traits, but has berries that tend to …', 'Citations': {'2021': '1', '2022': '1'}}\n",
            "{'Authors': 'N Gambhir, D Combs, A Underhill, LE Cadle-Davidson, KM Gold', 'Publication Date': '2021/10/1', 'Journal': 'journal not found', 'Abstract': 'Abstract not found', 'Citations': {'2021': '1'}}\n",
            "{'Authors': 'Anna N Underhill', 'Publication Date': '2019/4/18', 'Journal': 'journal not found', 'Abstract': 'This is a collection of images collected in 2017 and 2018 from the UMN grape research population GE1025 (parentage described in Teh et al., 2017) that was used for two image analysis-based phenotyping experiments: one involving cluster compactness, and one involving skin color. Contained in each year are RAW images, color-corrected images, and segmented images for berry, stem, and background. Details about methods used to capture and segment images are available at https://github.com/underhillanna/GrapeImageAnalysis, or in Underhill, 2019.', 'Citations': {}}\n",
            "{'Authors': 'Anna Nicole Underhill', 'Publication Date': '2019', 'Journal': 'journal not found', 'Abstract': 'High-throughput phenotyping methods have gained popularity in the plant sciences due to their potential to more quickly collect data, reduce human error, and investigate plant characteristics in new ways. In grapes, many economically important traits are quantitative, varying across a spectrum and displaying diverse phenotypes. Though rating scales exist for such traits, their usefulness can be limited by their ability to capture variation across populations; additionally, they require judgement that can vary based on the individual scoring the trait. Automated systems can be used to remedy these issues, eliminating subjectivity and more fully describing phenotypic variation. In these experiments, a semi-automated image analysis system was used to evaluate fruit cluster compactness and berry color in a multispecies hybrid wine grape (Vitis spp.) population. First, color-based image segmentation was used to isolate …', 'Citations': {}}\n",
            "{'Authors': 'Qi Mu, Anna Underhill, Xin Li, Xianran Li, Jianming Yu', 'Publication Date': '2018', 'Journal': 'journal not found', 'Abstract': 'Abstract not found', 'Citations': {}}\n",
            "{'Authors': 'Anna Nicole Underhill, Cory D Hirsch, Matthew D Clark', 'Publication Date': '2018', 'Journal': 'journal not found', 'Abstract': 'Abstract not found', 'Citations': {}}\n",
            "{'Authors': 'Anna Underhill', 'Publication Date': '2016', 'Journal': 'journal not found', 'Abstract': 'Heterosis, the relative increase in fitness of a hybrid offspring as compared to its parents, has contributed significantly to gains made through plant breeding. This phenomenon is most often observed in tall hybrid plants with increased vigor; however, the physiological mechanism behind this result is still poorly understood. This experiment presents the effect of several height-controlling genes in sorghum across its growth stages, examining changes in expression as plant development proceeds. QTL mapping revealed an early-acting height gene in chromosome 4, as well as fluctuations in previously identified regions in chromosomes 7 and 9. Mapping across growth stages allowed the changing effects of these genes to be observed, which is not possible when measurements are taken only after plants have reached maturity.', 'Citations': {}}\n",
            "{'Authors': 'Brian M Wood, David P Watts, John C Mitani, Kevin E Langergraber', 'Publication Date': '2017/4/1', 'Journal': 'Journal of Human Evolution', 'Abstract': 'Demographic data on wild chimpanzees are crucial for understanding the evolution of chimpanzee and hominin life histories, but most data come from populations affected by disease outbreaks and anthropogenic disturbance. We present survivorship data from a relatively undisturbed and exceptionally large community of eastern chimpanzees (Pan troglodytes schweinfurthii) at Ngogo, Kibale National Park, Uganda. We monitored births, deaths, immigrations, and emigrations in the community between 1995 and 2016. Using known and estimated ages, we calculated survivorship curves for the whole community, for males and females separately, and for individuals ≤2 years old when identified. We used a novel method to address age estimation error by calculating stochastic survivorship curves. We compared Ngogo life expectancy, survivorship, and mortality rates to those from other chimpanzee communities …', 'Citations': {'2016': '1', '2017': '10', '2018': '14', '2019': '48', '2020': '34', '2021': '22', '2022': '17', '2023': '17', '2024': '2'}}\n",
            "{'Authors': 'Kevin E Langergraber, David P Watts, Linda Vigilant, John C Mitani', 'Publication Date': '2017/7/11', 'Journal': 'Proceedings of the National Academy of Sciences', 'Abstract': 'How can collective action evolve when individuals benefit from cooperation regardless of whether they pay its participation costs? According to one influential perspective, collective action problems are common, especially when groups are large, but may be solved when individuals who have more to gain from the collective good or can produce it at low costs provide it to others as a byproduct. Several results from a 20-y study of one of the most striking examples of collective action in nonhuman animals, territorial boundary patrolling by male chimpanzees, are consistent with these ideas. Individuals were more likely to patrol when (i) they had more to gain because they had many offspring in the group; (ii) they incurred relatively low costs because of their high dominance rank and superior physical condition; and (iii) the group size was relatively small. However, several other findings were better explained by group …', 'Citations': {'2017': '3', '2018': '9', '2019': '39', '2020': '24', '2021': '23', '2022': '22', '2023': '10', '2024': '2'}}\n",
            "{'Authors': 'Iulia Bădescu, M Anne Katzenberg, David P Watts, Daniel W Sellen', 'Publication Date': '2017/2', 'Journal': 'American journal of physical anthropology', 'Abstract': 'Determining nutritional development in wild primates is difficult through observations because confirming dietary intake is challenging. Physiological measures are needed to determine the relative contributions of maternal milk and other foods at different ages, and time of weaning. We used fecal stable carbon and nitrogen isotopes (δ13C, δ15N) and fecal nitrogen concentrations (%N) from wild chimpanzees at Ngogo, Uganda, to derive physiological dietary indicators during the transition from total reliance on maternal milk to adult foods after weaning.', 'Citations': {'2016': '1', '2017': '4', '2018': '5', '2019': '5', '2020': '14', '2021': '15', '2022': '16', '2023': '10', '2024': '1'}}\n",
            "{'Authors': 'Iulia Bădescu, David P Watts, M Anne Katzenberg, Daniel W Sellen', 'Publication Date': '2016/11/9', 'Journal': 'Royal Society open science', 'Abstract': 'Alloparenting, when individuals other than the mother assist with infant care, can vary between and within populations and has potential fitness costs and benefits for individuals involved. We investigated the effects of alloparenting on the speed with which infants were weaned, a potential component of maternal fitness because of how it can affect inter-birth intervals, in wild chimpanzees (Pan troglodytes schweinfurthii) at Ngogo, Uganda. We also provide, to our knowledge, the first description of alloparenting in this population and present a novel measure of the contribution of milk to infant diets through faecal stable nitrogen isotopes (δ15N). Using 42 mother–infant pairs, we tested associations of two alloparenting dimensions, natal attraction (interest in infants) and infant handling (holding, carrying), to the proportion of time mothers spent feeding and to maternal lactation effort (mean nursing rates and mother …', 'Citations': {'2017': '4', '2018': '11', '2019': '7', '2020': '7', '2021': '6', '2022': '10', '2023': '4', '2024': '1'}}\n",
            "{'Authors': 'David P Watts, John C Mitani', 'Publication Date': '2015/8', 'Journal': 'International Journal of Primatology', 'Abstract': 'Predation can have major effects on vertebrate population dynamics, including predator–prey cycles that occur on multiple time scales when predators switch between preferred and alternative prey and changes in the abundance of preferred prey when the availability of alternative prey changes. Predation has been an important selective force in primate social evolution and may regulate some primate populations, but assessing its impact is often difficult. Chimpanzees (Pan troglodytes) provide opportunities for direct collection of data on predation intensity by following habituated predators because they regularly prey on a variety of vertebrates, including other primates. Chimpanzees mostly hunt red colobus monkeys (Procolobus spp.) wherever they live in sympatry. Previous reports have documented heavy predation on red colobus by chimpanzees in the unusually large Ngogo community, in Kibale …', 'Citations': {'2016': '3', '2017': '3', '2018': '8', '2019': '4', '2020': '7', '2021': '7', '2022': '8', '2023': '5'}}\n",
            "{'Authors': 'David P Watts', 'Publication Date': '2020/12/1', 'Journal': 'journal not found', 'Abstract': 'Most nonhuman primates prey on vertebrates. Meat-eating, defined as ingestion of vertebrate tissue, occurs in 12 families, ≥39 genera, and ≥89 species. It is most common in capuchins (Cebus and Sapajus spp.), baboons (Papio spp.), bonobos (Pan paniscus), and chimpanzees (Pan troglodytes) and modestly common in blue monkeys (Cercopithecus mitis), callitrichids (Callithrix spp. and Saguinus spp.), and squirrel monkeys (Saimiri spp.). It is uncommon in other cercopithecines, rare in other haplorhines and in lemurs, and virtually absent in colobines. Birds are the prey class eaten by the most species (≥53), followed by reptiles (≥48), amphibians (≥38), mammals (≥35), and fish (≥7). Major hypotheses for the importance of meat eating are that it is (1) mainly an energy source, especially (1a) when plant-source foods (PSFs) with high energy return rates are scarce (energy shortfall hypothesis); (2) mainly a …', 'Citations': {'2021': '9', '2022': '14', '2023': '10'}}\n",
            "{'Authors': 'David P Watts', 'Publication Date': '2018/1/1', 'Journal': 'Behaviour', 'Abstract': 'Male dominance hierarchies occur in many group-living primates and some non-primate mammals. Variation in aspects of agonistic relationships such as how many dyads show bidirectionality in aggression leads to variation in dominance hierarchies along a continuum from egalitarian (relatively small agonistic power differences between adjacently-ranked individuals, shallow hierarchies) to despotic (relatively large differences, steep hierarchies). Ranks usually depend mostly or entirely on individual characteristics that influence fighting ability (e.g., body size) and show inverse-U shaped relationships to age. However, coalitionary support sometimes also influences ranks. Chimpanzees ( Pan troglodytes ) form multi-male, multi-female communities within which males compete for status. Males typically form dominance hierarchies, and data from multiple study show that rank is positively …', 'Citations': {'2019': '2', '2020': '12', '2021': '6', '2022': '4', '2023': '7'}}\n",
            "{'Authors': 'David Watts', 'Publication Date': '2015', 'Journal': 'journal not found', 'Abstract': 'Team field and court sports often demand the athlete to decelerate, change their direction, and accelerate again in response to a stimulus. All of this occurs in fractions of a second and needs to be completed in a shorter period of time than the athlete’s opponent to be successful. The physical component of this quality is termed change of direction speed (CODS). In regard to training and improving CODS, there is currently disagreement on the efficacy of implementing traditional strength training methods as these primarily work through a vertical plane. Reviewing and discussing CODS and the necessary physical capacities that will lead to enhancement of this quality will help in making informed decisions for effective training methodologies. Therefore the primary purpose of this brief review was to identify and discuss the possible factors that influence CODS. The majority of the discussion focussed on the role of maximal relative strength in CODS performance and further discussion was conducted on testing methodologies. A search of the literature was completed to locate and examine any available articles that explored the relationship between strength and CODS. Principally, correlational and training studies were examined closely while studies investigating the kinematics of CODS movements were also evaluated. After the literature had been reviewed and discussed it was concluded that an athlete’s relative maximal strength plays a significant role in determining CODS performance. Therefore when preparing team sport athletes for competition, strength training and weightlifting programs designed to improve maximal relative strength should …', 'Citations': {'2016': '1', '2017': '2', '2018': '4', '2019': '5', '2020': '8', '2021': '3', '2022': '2', '2023': '4'}}\n",
            "{'Authors': 'Aspen T Reese, Sarah R Phillips, Leah A Owens, Emily M Venable, Kevin E Langergraber, Zarin P Machanda, John C Mitani, Martin N Muller, David P Watts, Richard W Wrangham, Tony L Goldberg, Melissa Emery Thompson, Rachel N Carmody', 'Publication Date': '2021/2/8', 'Journal': 'Current Biology', 'Abstract': 'Survival in primates is facilitated by commensal gut microbes that ferment otherwise indigestible plant matter, resist colonization by pathogens, and train the developing immune system.1,2 However, humans are unique among primates in that we consume highly digestible foods, wean early, mature slowly, and exhibit high lifelong investments in maintenance.3–6 These adaptations suggest that lifetime trajectories of human-microbial relationships could differ from those of our closest living relatives. Here, we profile the gut microbiota of 166 wild chimpanzees aged 8 months to 67 years in the Kibale National Park, Uganda and compare the patterns of gut microbial maturation to those previously observed in humans. We found that chimpanzee gut microbial alpha-diversity, composition, density, interindividual variation, and within-individual change over time varied significantly with age. Notably, gut microbial …', 'Citations': {'2021': '7', '2022': '12', '2023': '9'}}\n",
            "{'Authors': 'Aaron A Sandel, David P Watts', 'Publication Date': '2021/2', 'Journal': 'International journal of primatology', 'Abstract': 'Many animals engage in aggression, but chimpanzees stand out in terms of fatal attacks against adults of their own species. Most lethal aggression occurs between groups, where coalitions of male chimpanzees occasionally kill members of neighboring communities that are strangers. However, the first observed cases of lethal violence in chimpanzees, which occurred at Gombe, Tanzania in the 1970s, involved chimpanzees that once knew each other. They followed the only observed case of a permanent community fission in chimpanzees. A second permanent fission recently transpired at Ngogo, Kibale National Park, Uganda. Members of a large western subgroup gradually ceased associating peacefully with the rest of the community and started behaving antagonistically toward them. Affiliation effectively ended by 2017. Here, we describe two subsequent lethal coalitionary attacks by chimpanzees of …', 'Citations': {'2021': '5', '2022': '13', '2023': '7', '2024': '1'}}\n",
            "{'Authors': 'David P Watts', 'Publication Date': '2016/1', 'Journal': 'Primates', 'Abstract': 'Chimpanzees (Pan troglodytes) use some communicative signals flexibly and voluntarily, with use influenced by learning. These signals include some vocalizations and also sounds made using the lips, oral cavity, and/or teeth, but not the vocal tract, such as “attention-getting” sounds directed at humans by captive chimpanzees and lip smacking during social grooming. Chimpanzees at Ngogo, in Kibale National Park, Uganda, make four distinct sounds while grooming others. Here, I present data on two of these (“splutters” and “teeth chomps”) and consider whether social learning contributes to variation in their production and whether they serve social functions. Higher congruence in the use of these two sounds between dyads of maternal relatives than dyads of non-relatives implies that social learning occurs and mostly involves vertical transmission, but the results are not conclusive and it is unclear …', 'Citations': {'2016': '2', '2017': '5', '2018': '1', '2019': '1', '2020': '6', '2021': '2', '2022': '2', '2023': '5'}}\n",
            "{'Authors': 'Kevin B Potts, Erica Baken, Sylvia Ortmann, David P Watts, Richard W Wrangham', 'Publication Date': '2015/12', 'Journal': 'International Journal of Primatology', 'Abstract': 'The assumption that population density restricts the foraging efficiency of individuals in the population via increased competition for resources underpins socioecological models of female social relationships in primates. We examined this assumption by comparing quantitative measures of foraging efficiency in two communities of chimpanzees (Pan troglodytes schweinfurthii) that inhabit the same contiguous forest in Kibale National Park, Uganda, but differ substantially in size and density. To calculate net caloric gain rates (our measure of foraging efficiency) we obtained data directly from focal follows of individual chimpanzees on 1) residency time in a feeding patch, 2) feeding rate in the patch, 3) the nutrient content of the items fed upon, and 4) the distance walked between feeding patches. We collected foraging efficiency data over 1059 h at Ngogo and 961 h at Kanyawara. We found that individuals in …', 'Citations': {'2016': '2', '2017': '3', '2018': '4', '2019': '2', '2020': '4', '2021': '3', '2022': '3', '2023': '1'}}\n",
            "{'Authors': 'Kevin B Potts, David P Watts, Kevin E Langergraber, John C Mitani', 'Publication Date': '2020/5', 'Journal': 'Biotropica', 'Abstract': 'Fruit production in tropical forests varies considerably in space and time, with important implications for frugivorous consumers. Characterizing temporal variation in forest productivity is thus critical for understanding adaptations of tropical forest frugivores, yet long‐term phenology data from the tropics, in particular from African forests, are still scarce. Similarly, as the abiotic factors driving phenology in the tropics are predicted to change with a warming climate, studies documenting the relationship between climatic variables and fruit production are increasingly important. Here, we present data from 19 years of monitoring the phenology of 20 tree species at Ngogo in Kibale National Park, Uganda. Our aims were to characterize short‐ and long‐term trends in productivity and to understand the abiotic factors driving temporal variability in fruit production. Short‐term (month‐to‐month) variability in fruiting was relatively …', 'Citations': {'2020': '4', '2021': '5', '2022': '5', '2023': '7'}}\n",
            "{'Authors': 'David P Watts', 'Publication Date': '2020/1', 'Journal': 'Primates', 'Abstract': 'Comparative [“evolutionary”)] thanatology is devoted to investigating how animals respond to signs of death and dying, in conspecifics and other species. Responses to corpses often involve fear and confusion, and “deceased infant carrying” by females is widespread in nonhuman primates. Such behavior could result from “animacy detection malfunctions” (Gonçalves and Biro in Philos Trans R Soc (B) 373:20170263, 2018): corpses have attributes of animate agents, but—like objects—they do not act, but instead are acted upon by outside forces. Many or most nonhuman primates have core cognitive mechanisms for detecting animacy, but these might not resolve this paradox. Skeletons of conspecifics, seriously injured or ill individuals behaving oddly and not responding as expected to social acts and signals, and corpses, skeletons, and sick or injured individuals belonging to other species could trigger …', 'Citations': {'2020': '3', '2021': '5', '2022': '8', '2023': '4', '2024': '1'}}\n",
            "{'Authors': 'David P Watts', 'Publication Date': '2015/4', 'Journal': 'Primates', 'Abstract': 'Male mating tactics vary extensively in many primates. Some variation occurs because adolescent males often are sexually active but cannot invest heavily in mating effort because of their limited ability to compete directly with adults and because they are still investing in growth; consequently, most of their mating attempts may be surreptitious and/or with females whose fecundity is low. Chimpanzees (Pan trogolodytes) have a complex mating system: most copulations occur between estrous females with full sexual swelling and multiple males in group settings where the potential for sperm competition is high, but males sometimes mate-guard females, and sometimes male–female pairs mate exclusively with each other while avoiding other males during “consortships.” Among other factors, dominance ranks, coalition formation, and variation in male–female association influence male mating and …', 'Citations': {'2016': '3', '2017': '2', '2018': '5', '2019': '3', '2020': '2', '2021': '4'}}\n",
            "{'Authors': 'Gary P Aronsen, Melanie M Beuerlein, David P Watts, Richard G Bribiescas', 'Publication Date': '2015/1/1', 'Journal': 'Conservation Physiology', 'Abstract': 'Non-invasive measurement of urinary cortisol is a proven method of evaluating the impact of environmental stressors on wild primates. Variation in cortisol concentrations can reflect physiological stress, and prolonged elevation of circulating cortisol can significantly affect individual and population-level health. In a previous study, we found that urinary cortisol concentrations in grey-cheeked mangabeys ( Lophocebus albigena ) were higher at a highly disturbed site (Mainaro) in Kibale National Park, Uganda compared with a minimally disturbed site (Ngogo) in the same habitat. Here, we expand on this research, reporting on cortisol concentrations in two other cercopithecid monkeys ( Cercopithecus ascanius and Piliocolobus rufomitratus ) at the same two sites. We hypothesized that C. ascanius would show no difference between sites, given its …', 'Citations': {'2016': '2', '2017': '2', '2018': '3', '2019': '4', '2020': '1', '2021': '4', '2022': '3', '2023': '1'}}\n",
            "{'Authors': 'Sabrina Krief, David P Watts, John C Mitani, Jean-Michel Krief, Marie Cibot, Sarah Bortolamiol, Andrew G Seguya, Gérard Couly', 'Publication Date': '2015/11', 'Journal': 'The Cleft Palate-Craniofacial Journal', 'Abstract': 'Observations of wild chimpanzees (Pan troglodytes schweinfurthii) were conducted in Kibale National Park, Uganda, at the sites of Sebitoli and Ngogo.', 'Citations': {'2015': '2', '2016': '2', '2017': '2', '2018': '1', '2019': '3', '2020': '1', '2021': '1', '2022': '4', '2023': '1'}}\n",
            "{'Authors': 'Kevin B Potts, Erica Baken, Ashley Levang, David P Watts', 'Publication Date': '2016/4', 'Journal': 'American Journal of Primatology', 'Abstract': 'Although numerous ecological and social factors influence range use in vertebrates, the general assumption is that ranging patterns typically accord with principles of optimal foraging theory. However, given temporal variability in resource abundance, animals can more easily meet nutritional needs at some times than at others. For species in which sociality is particularly important for fitness, such as chimpanzees (Pan troglodytes) and other group‐living primates, the influences of social factors can be particularly strong, and likely interact closely with ecological factors. We investigated home range use by a community of chimpanzees at Ngogo, Kibale National Park, Uganda, to determine whether range use corresponded to energy‐based optimality principles. Chimpanzees were particularly attracted to areas of the home range where individuals of Ficus mucuso (a large but low‐density resource) were found, but …', 'Citations': {'2018': '3', '2019': '3', '2020': '1', '2021': '4', '2022': '2'}}\n",
            "{'Authors': 'Chloe Chen-Kraus, Casey Farmer, Elaine E Guevara, Katherine Meier, David P Watts, Jane Widness', 'Publication Date': '2021/12', 'Journal': 'International Journal of Primatology', 'Abstract': 'Primatology has colonial roots and remains characterized by colonial dynamics. Primates overwhelmingly occur in countries in the Global South, while primatologists have historically hailed mostly from the Global North, not range countries. Imperialism directly facilitated pioneering primatology fieldwork, including CR Carpenter’s in Panama and Malaya (Ahuja, 2013; Carpenter, 1934, 1940; Haraway, 1989) and Jane Goodall’s in Tanganyika (Goodall, 1962; Haraway, 1989; Rodrigues, 2020). Primatology, field biology generally, and conservation have always been deeply dependent on Global South institutions, people, knowledge, and abilities (Das & Lowe, 2018; Haraway, 1989; van Wyhe & Drawhorn, 2015). Nevertheless, Global North researchers still have vastly greater access to research resources and outsized roles in decision making (eg, through domination of journal editorial boards and service as …', 'Citations': {'2022': '3', '2023': '9', '2024': '1'}}\n"
          ]
        }
      ],
      "source": [
        "get_pub_info.generate_pub_info_table(year)"
      ]
    }
  ],
  "metadata": {
    "colab": {
      "provenance": []
    },
    "kernelspec": {
      "display_name": "base",
      "language": "python",
      "name": "python3"
    },
    "language_info": {
      "codemirror_mode": {
        "name": "ipython",
        "version": 3
      },
      "file_extension": ".py",
      "mimetype": "text/x-python",
      "name": "python",
      "nbconvert_exporter": "python",
      "pygments_lexer": "ipython3",
      "version": "3.11.4"
    }
  },
  "nbformat": 4,
  "nbformat_minor": 0
}
