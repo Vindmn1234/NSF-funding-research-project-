{
  "cells": [
    {
      "cell_type": "markdown",
      "source": [
        "# Import libraries"
      ],
      "metadata": {
        "id": "yZA8dVFisev0"
      }
    },
    {
      "cell_type": "code",
      "source": [
        "import os\n",
        "import pandas as pd\n",
        "from lxml import etree\n",
        "! pip install selenium\n",
        "from selenium import webdriver\n",
        "from selenium.webdriver.common.by import By\n",
        "from selenium.common.exceptions import NoSuchElementException, ElementClickInterceptedException\n",
        "import time"
      ],
      "metadata": {
        "id": "l43IGp9nseLY",
        "colab": {
          "base_uri": "https://localhost:8080/"
        },
        "outputId": "bbcea147-ac79-4a9b-aee6-a2a49f6955a4"
      },
      "execution_count": 1,
      "outputs": [
        {
          "output_type": "stream",
          "name": "stdout",
          "text": [
            "Collecting selenium\n",
            "  Downloading selenium-4.17.2-py3-none-any.whl (9.9 MB)\n",
            "\u001b[2K     \u001b[90m━━━━━━━━━━━━━━━━━━━━━━━━━━━━━━━━━━━━━━━━\u001b[0m \u001b[32m9.9/9.9 MB\u001b[0m \u001b[31m30.8 MB/s\u001b[0m eta \u001b[36m0:00:00\u001b[0m\n",
            "\u001b[?25hRequirement already satisfied: urllib3[socks]<3,>=1.26 in /usr/local/lib/python3.10/dist-packages (from selenium) (2.0.7)\n",
            "Collecting trio~=0.17 (from selenium)\n",
            "  Downloading trio-0.24.0-py3-none-any.whl (460 kB)\n",
            "\u001b[2K     \u001b[90m━━━━━━━━━━━━━━━━━━━━━━━━━━━━━━━━━━━━━━━━\u001b[0m \u001b[32m460.2/460.2 kB\u001b[0m \u001b[31m21.7 MB/s\u001b[0m eta \u001b[36m0:00:00\u001b[0m\n",
            "\u001b[?25hCollecting trio-websocket~=0.9 (from selenium)\n",
            "  Downloading trio_websocket-0.11.1-py3-none-any.whl (17 kB)\n",
            "Requirement already satisfied: certifi>=2021.10.8 in /usr/local/lib/python3.10/dist-packages (from selenium) (2023.11.17)\n",
            "Collecting typing_extensions>=4.9.0 (from selenium)\n",
            "  Downloading typing_extensions-4.9.0-py3-none-any.whl (32 kB)\n",
            "Requirement already satisfied: attrs>=20.1.0 in /usr/local/lib/python3.10/dist-packages (from trio~=0.17->selenium) (23.2.0)\n",
            "Requirement already satisfied: sortedcontainers in /usr/local/lib/python3.10/dist-packages (from trio~=0.17->selenium) (2.4.0)\n",
            "Requirement already satisfied: idna in /usr/local/lib/python3.10/dist-packages (from trio~=0.17->selenium) (3.6)\n",
            "Collecting outcome (from trio~=0.17->selenium)\n",
            "  Downloading outcome-1.3.0.post0-py2.py3-none-any.whl (10 kB)\n",
            "Requirement already satisfied: sniffio>=1.3.0 in /usr/local/lib/python3.10/dist-packages (from trio~=0.17->selenium) (1.3.0)\n",
            "Requirement already satisfied: exceptiongroup in /usr/local/lib/python3.10/dist-packages (from trio~=0.17->selenium) (1.2.0)\n",
            "Collecting wsproto>=0.14 (from trio-websocket~=0.9->selenium)\n",
            "  Downloading wsproto-1.2.0-py3-none-any.whl (24 kB)\n",
            "Requirement already satisfied: pysocks!=1.5.7,<2.0,>=1.5.6 in /usr/local/lib/python3.10/dist-packages (from urllib3[socks]<3,>=1.26->selenium) (1.7.1)\n",
            "Collecting h11<1,>=0.9.0 (from wsproto>=0.14->trio-websocket~=0.9->selenium)\n",
            "  Downloading h11-0.14.0-py3-none-any.whl (58 kB)\n",
            "\u001b[2K     \u001b[90m━━━━━━━━━━━━━━━━━━━━━━━━━━━━━━━━━━━━━━━━\u001b[0m \u001b[32m58.3/58.3 kB\u001b[0m \u001b[31m3.8 MB/s\u001b[0m eta \u001b[36m0:00:00\u001b[0m\n",
            "\u001b[?25hInstalling collected packages: typing_extensions, outcome, h11, wsproto, trio, trio-websocket, selenium\n",
            "  Attempting uninstall: typing_extensions\n",
            "    Found existing installation: typing_extensions 4.5.0\n",
            "    Uninstalling typing_extensions-4.5.0:\n",
            "      Successfully uninstalled typing_extensions-4.5.0\n",
            "\u001b[31mERROR: pip's dependency resolver does not currently take into account all the packages that are installed. This behaviour is the source of the following dependency conflicts.\n",
            "tensorflow-probability 0.22.0 requires typing-extensions<4.6.0, but you have typing-extensions 4.9.0 which is incompatible.\u001b[0m\u001b[31m\n",
            "\u001b[0mSuccessfully installed h11-0.14.0 outcome-1.3.0.post0 selenium-4.17.2 trio-0.24.0 trio-websocket-0.11.1 typing_extensions-4.9.0 wsproto-1.2.0\n"
          ]
        }
      ]
    },
    {
      "cell_type": "markdown",
      "source": [
        "# Connect to the shareddrive folder for this project"
      ],
      "metadata": {
        "id": "hp9QJP2ss2Rx"
      }
    },
    {
      "cell_type": "code",
      "source": [
        "# Mount Google Drive\n",
        "from google.colab import drive\n",
        "drive.mount('/content/drive')"
      ],
      "metadata": {
        "colab": {
          "base_uri": "https://localhost:8080/"
        },
        "id": "MsZ2QWEztALJ",
        "outputId": "a73dc186-6af6-40c5-8c01-a979a87426ef"
      },
      "execution_count": 2,
      "outputs": [
        {
          "output_type": "stream",
          "name": "stdout",
          "text": [
            "Mounted at /content/drive\n"
          ]
        }
      ]
    },
    {
      "cell_type": "code",
      "source": [
        "shareddrive_path = '/content/drive/Shareddrives/MACS_30122_Project'"
      ],
      "metadata": {
        "id": "iRVDmq1etD2q"
      },
      "execution_count": 3,
      "outputs": []
    },
    {
      "cell_type": "code",
      "source": [
        "os.chdir(shareddrive_path)"
      ],
      "metadata": {
        "id": "3Oi5YgqMtSNx"
      },
      "execution_count": 4,
      "outputs": []
    },
    {
      "cell_type": "code",
      "source": [
        "!ls"
      ],
      "metadata": {
        "colab": {
          "base_uri": "https://localhost:8080/"
        },
        "id": "-3OyvYJIteC-",
        "outputId": "8caac1a7-9b08-4a2a-e5fe-156d4f1750db"
      },
      "execution_count": 5,
      "outputs": [
        {
          "output_type": "stream",
          "name": "stdout",
          "text": [
            "2018_nsf.csv\t\t\t\tlibu2f-udev_1.1.4-1_all.deb  NSF_zip\n",
            "google-chrome-stable_current_amd64.deb\tNSF_data\n"
          ]
        }
      ]
    },
    {
      "cell_type": "markdown",
      "source": [
        "# Set up selenium configuration for Google Colab"
      ],
      "metadata": {
        "id": "luKKMa7PMmlC"
      }
    },
    {
      "cell_type": "code",
      "source": [
        "%%shell\n",
        "sudo apt -y update\n",
        "sudo apt install -y wget curl unzip\n",
        "wget http://archive.ubuntu.com/ubuntu/pool/main/libu/libu2f-host/libu2f-udev_1.1.4-1_all.deb\n",
        "dpkg -i libu2f-udev_1.1.4-1_all.deb\n",
        "wget https://dl.google.com/linux/direct/google-chrome-stable_current_amd64.deb\n",
        "dpkg -i google-chrome-stable_current_amd64.deb\n",
        "CHROME_DRIVER_VERSION=`curl -sS chromedriver.storage.googleapis.com/LATEST_RELEASE`\n",
        "wget -N https://chromedriver.storage.googleapis.com/$CHROME_DRIVER_VERSION/chromedriver_linux64.zip -P /tmp/\n",
        "unzip -o /tmp/chromedriver_linux64.zip -d /tmp/\n",
        "chmod +x /tmp/chromedriver\n",
        "mv /tmp/chromedriver /usr/local/bin/chromedriver\n"
      ],
      "metadata": {
        "colab": {
          "base_uri": "https://localhost:8080/"
        },
        "id": "ey2sRCGgMleW",
        "outputId": "281dc794-1b74-4ba3-c1d9-adf806c74080"
      },
      "execution_count": 6,
      "outputs": [
        {
          "output_type": "stream",
          "name": "stdout",
          "text": [
            "\u001b[33m\r0% [Working]\u001b[0m\r            \rGet:1 https://cloud.r-project.org/bin/linux/ubuntu jammy-cran40/ InRelease [3,626 B]\n",
            "Hit:2 https://developer.download.nvidia.com/compute/cuda/repos/ubuntu2204/x86_64  InRelease\n",
            "Hit:3 http://archive.ubuntu.com/ubuntu jammy InRelease\n",
            "Get:4 http://security.ubuntu.com/ubuntu jammy-security InRelease [110 kB]\n",
            "Get:5 http://archive.ubuntu.com/ubuntu jammy-updates InRelease [119 kB]\n",
            "Get:6 https://ppa.launchpadcontent.net/c2d4u.team/c2d4u4.0+/ubuntu jammy InRelease [18.1 kB]\n",
            "Hit:7 https://ppa.launchpadcontent.net/deadsnakes/ppa/ubuntu jammy InRelease\n",
            "Hit:8 http://archive.ubuntu.com/ubuntu jammy-backports InRelease\n",
            "Hit:9 https://ppa.launchpadcontent.net/graphics-drivers/ppa/ubuntu jammy InRelease\n",
            "Get:10 http://archive.ubuntu.com/ubuntu jammy-updates/main amd64 Packages [1,678 kB]\n",
            "Hit:11 https://ppa.launchpadcontent.net/ubuntugis/ppa/ubuntu jammy InRelease\n",
            "Get:12 https://ppa.launchpadcontent.net/c2d4u.team/c2d4u4.0+/ubuntu jammy/main Sources [2,268 kB]\n",
            "Get:13 http://archive.ubuntu.com/ubuntu jammy-updates/universe amd64 Packages [1,333 kB]\n",
            "Get:14 https://ppa.launchpadcontent.net/c2d4u.team/c2d4u4.0+/ubuntu jammy/main amd64 Packages [1,164 kB]\n",
            "Fetched 6,693 kB in 2s (2,913 kB/s)\n",
            "Reading package lists... Done\n",
            "Building dependency tree... Done\n",
            "Reading state information... Done\n",
            "40 packages can be upgraded. Run 'apt list --upgradable' to see them.\n",
            "Reading package lists... Done\n",
            "Building dependency tree... Done\n",
            "Reading state information... Done\n",
            "wget is already the newest version (1.21.2-2ubuntu1).\n",
            "curl is already the newest version (7.81.0-1ubuntu1.15).\n",
            "unzip is already the newest version (6.0-26ubuntu3.1).\n",
            "0 upgraded, 0 newly installed, 0 to remove and 40 not upgraded.\n",
            "--2024-02-02 17:53:16--  http://archive.ubuntu.com/ubuntu/pool/main/libu/libu2f-host/libu2f-udev_1.1.4-1_all.deb\n",
            "Resolving archive.ubuntu.com (archive.ubuntu.com)... 185.125.190.39, 91.189.91.83, 91.189.91.81, ...\n",
            "Connecting to archive.ubuntu.com (archive.ubuntu.com)|185.125.190.39|:80... connected.\n",
            "HTTP request sent, awaiting response... 200 OK\n",
            "Length: 3708 (3.6K) [application/x-debian-package]\n",
            "Saving to: ‘libu2f-udev_1.1.4-1_all.deb.1’\n",
            "\n",
            "libu2f-udev_1.1.4-1 100%[===================>]   3.62K  --.-KB/s    in 0s      \n",
            "\n",
            "2024-02-02 17:53:16 (106 MB/s) - ‘libu2f-udev_1.1.4-1_all.deb.1’ saved [3708/3708]\n",
            "\n",
            "Selecting previously unselected package libu2f-udev.\n",
            "(Reading database ... 121730 files and directories currently installed.)\n",
            "Preparing to unpack libu2f-udev_1.1.4-1_all.deb ...\n",
            "Unpacking libu2f-udev (1.1.4-1) ...\n",
            "Setting up libu2f-udev (1.1.4-1) ...\n",
            "--2024-02-02 17:53:17--  https://dl.google.com/linux/direct/google-chrome-stable_current_amd64.deb\n",
            "Resolving dl.google.com (dl.google.com)... 173.194.203.93, 173.194.203.91, 173.194.203.136, ...\n",
            "Connecting to dl.google.com (dl.google.com)|173.194.203.93|:443... connected.\n",
            "HTTP request sent, awaiting response... 200 OK\n",
            "Length: 106447036 (102M) [application/x-debian-package]\n",
            "Saving to: ‘google-chrome-stable_current_amd64.deb.1’\n",
            "\n",
            "google-chrome-stabl 100%[===================>] 101.52M  46.5MB/s    in 2.2s    \n",
            "\n",
            "2024-02-02 17:53:20 (46.5 MB/s) - ‘google-chrome-stable_current_amd64.deb.1’ saved [106447036/106447036]\n",
            "\n",
            "Selecting previously unselected package google-chrome-stable.\n",
            "(Reading database ... 121734 files and directories currently installed.)\n",
            "Preparing to unpack google-chrome-stable_current_amd64.deb ...\n",
            "Unpacking google-chrome-stable (120.0.6099.224-1) ...\n",
            "\u001b[1mdpkg:\u001b[0m dependency problems prevent configuration of google-chrome-stable:\n",
            " google-chrome-stable depends on libvulkan1; however:\n",
            "  Package libvulkan1 is not installed.\n",
            "\n",
            "\u001b[1mdpkg:\u001b[0m error processing package google-chrome-stable (--install):\n",
            " dependency problems - leaving unconfigured\n",
            "Processing triggers for man-db (2.10.2-1) ...\n",
            "Errors were encountered while processing:\n",
            " google-chrome-stable\n",
            "--2024-02-02 17:53:32--  https://chromedriver.storage.googleapis.com/114.0.5735.90/chromedriver_linux64.zip\n",
            "Resolving chromedriver.storage.googleapis.com (chromedriver.storage.googleapis.com)... 108.177.98.207, 74.125.135.207, 74.125.142.207, ...\n",
            "Connecting to chromedriver.storage.googleapis.com (chromedriver.storage.googleapis.com)|108.177.98.207|:443... connected.\n",
            "HTTP request sent, awaiting response... 200 OK\n",
            "Length: 7407250 (7.1M) [application/zip]\n",
            "Saving to: ‘/tmp/chromedriver_linux64.zip’\n",
            "\n",
            "chromedriver_linux6 100%[===================>]   7.06M  --.-KB/s    in 0.05s   \n",
            "\n",
            "2024-02-02 17:53:32 (132 MB/s) - ‘/tmp/chromedriver_linux64.zip’ saved [7407250/7407250]\n",
            "\n",
            "Archive:  /tmp/chromedriver_linux64.zip\n",
            "  inflating: /tmp/chromedriver       \n",
            "  inflating: /tmp/LICENSE.chromedriver  \n"
          ]
        },
        {
          "output_type": "execute_result",
          "data": {
            "text/plain": []
          },
          "metadata": {},
          "execution_count": 6
        }
      ]
    },
    {
      "cell_type": "code",
      "source": [
        "!pip install chromedriver-autoinstaller\n",
        "\n",
        "import sys\n",
        "sys.path.insert(0,'/usr/lib/chromium-browser/chromedriver')\n",
        "import chromedriver_autoinstaller\n",
        "\n",
        "# set path to chromedriver as per your configuration\n",
        "chromedriver_autoinstaller.install()"
      ],
      "metadata": {
        "colab": {
          "base_uri": "https://localhost:8080/",
          "height": 122
        },
        "id": "8BtTtyhLMosy",
        "outputId": "3beca6a0-7529-417b-be44-ceebbf02b4f5"
      },
      "execution_count": 7,
      "outputs": [
        {
          "output_type": "stream",
          "name": "stdout",
          "text": [
            "Collecting chromedriver-autoinstaller\n",
            "  Downloading chromedriver_autoinstaller-0.6.4-py3-none-any.whl (7.6 kB)\n",
            "Requirement already satisfied: packaging>=23.1 in /usr/local/lib/python3.10/dist-packages (from chromedriver-autoinstaller) (23.2)\n",
            "Installing collected packages: chromedriver-autoinstaller\n",
            "Successfully installed chromedriver-autoinstaller-0.6.4\n"
          ]
        },
        {
          "output_type": "execute_result",
          "data": {
            "text/plain": [
              "'/usr/local/lib/python3.10/dist-packages/chromedriver_autoinstaller/120/chromedriver'"
            ],
            "application/vnd.google.colaboratory.intrinsic+json": {
              "type": "string"
            }
          },
          "metadata": {},
          "execution_count": 7
        }
      ]
    },
    {
      "cell_type": "markdown",
      "source": [
        "# Load NSF data\n"
      ],
      "metadata": {
        "id": "7d14toXYsmiy"
      }
    },
    {
      "cell_type": "code",
      "source": [
        "# Unzip the file\n",
        "\n",
        "# Create the main directory to store OSF data (xml files) if it doesn't exist\n",
        "if not os.path.isdir(\"NSF_data\"):\n",
        "    os.mkdir(\"NSF_data\")\n",
        "\n",
        "# Unzip the file into a subdirectory\n",
        "if not os.path.isdir(\"NSF_data/2018\"):\n",
        "    !unzip \"NSF_data/2018.zip\" -d \"NSF_data/2018\""
      ],
      "metadata": {
        "id": "jQKkrUnhrLjN"
      },
      "execution_count": 8,
      "outputs": []
    },
    {
      "cell_type": "markdown",
      "source": [
        "This is a website introducing the directory and affiliated divisions: https://new.nsf.gov/about/directorates-offices"
      ],
      "metadata": {
        "id": "Q9VGY9EitlcC"
      }
    },
    {
      "cell_type": "code",
      "source": [
        "# Extracts data from downloaded NSF files\n",
        "def extract_data_from_file(file_path):\n",
        "    tree = etree.parse(file_path)\n",
        "    root = tree.getroot()\n",
        "\n",
        "    extracted_data = {\n",
        "        \"first_name\": \"\",\n",
        "        \"middle_name\": \"\",\n",
        "        \"last_name\": \"\",\n",
        "        \"email\": \"\",\n",
        "        \"directorate\": \"\",\n",
        "        \"division\": \"\",\n",
        "        \"effective_date\": \"\",\n",
        "        \"expiration_date\": \"\",\n",
        "        \"award_amount\": \"\",\n",
        "        \"abstract\": \"\"\n",
        "    }\n",
        "\n",
        "    award = root.find('Award')\n",
        "\n",
        "    extracted_data[\"effective_date\"] = award.findtext('AwardEffectiveDate') or ''\n",
        "    extracted_data[\"expiration_date\"] = award.findtext('AwardExpirationDate') or ''\n",
        "    extracted_data[\"award_amount\"] = award.findtext('AwardTotalIntnAmount') or ''\n",
        "    extracted_data[\"abstract\"] = award.findtext('AbstractNarration') or ''\n",
        "    extracted_data[\"directorate\"] = award.findtext('Organization/Directorate/LongName') or ''\n",
        "    extracted_data[\"division\"] = award.findtext('Organization/Division/LongName') or ''\n",
        "    # I do not think we need abbreviation\n",
        "    # extracted_data[\"division_abbreviation\"] = award.findtext('Organization/Division/Abbreviation')\n",
        "    extracted_data[\"first_name\"] = award.findtext('Investigator/FirstName') or ''\n",
        "    extracted_data[\"middle_name\"] = award.findtext('Investigator/PI_MID_INIT') or ''\n",
        "    extracted_data[\"last_name\"] = award.findtext('Investigator/LastName') or ''\n",
        "    extracted_data[\"email\"] = award.findtext('Investigator/EmailAddress') or ''\n",
        "\n",
        "    return extracted_data\n",
        "\n",
        "\n",
        "# Processes files in a folder\n",
        "def process_folder(folder_path, filter_directorate):\n",
        "    all_data = []\n",
        "    for filename in os.listdir(folder_path):\n",
        "        if filename.endswith('.xml'):\n",
        "            file_path = os.path.join(folder_path, filename)\n",
        "            data = extract_data_from_file(file_path)\n",
        "            if data[\"directorate\"] == filter_directorate:\n",
        "              all_data.append(data)\n",
        "\n",
        "    return pd.DataFrame(all_data)"
      ],
      "metadata": {
        "id": "yuS5685Q793Y"
      },
      "execution_count": 9,
      "outputs": []
    },
    {
      "cell_type": "code",
      "source": [
        "# example use for extracting\n",
        "folder_path = 'NSF_data/2018' # path to folder where NSF files are stored\n",
        "file_path = '2018_nsf.csv'\n",
        "\n",
        "if os.path.isfile(file_path):\n",
        "  nsf_df = pd.read_csv(file_path)\n",
        "else:\n",
        "  nsf_df = process_folder(folder_path, filter_directorate=\"Direct For Social, Behav & Economic Scie\") # process the folder\n",
        "  nsf_df.to_csv('2018_nsf.csv', index=False) # save the dataframe in a csv file"
      ],
      "metadata": {
        "id": "UsTEQqGC8eyh"
      },
      "execution_count": 10,
      "outputs": []
    },
    {
      "cell_type": "code",
      "source": [
        "nsf_df.head()"
      ],
      "metadata": {
        "colab": {
          "base_uri": "https://localhost:8080/",
          "height": 206
        },
        "id": "vahCdjONw_x8",
        "outputId": "3ee02e51-8c67-4a11-d699-8acbac06d2a0"
      },
      "execution_count": null,
      "outputs": [
        {
          "output_type": "execute_result",
          "data": {
            "text/plain": [
              "  first_name middle_name last_name                         email  \\\n",
              "0   Herschel           F    Thomas  herschel.thomas@mail.wvu.edu   \n",
              "1      Susan           C     Anton           susan.anton@nyu.edu   \n",
              "2     Thomas           J      Cova            cova@geog.utah.edu   \n",
              "3    Jeffrey         NaN    Hooker               hooker@cdkc.edu   \n",
              "4      Susan         NaN  Penfield             sdp@u.arizona.edu   \n",
              "\n",
              "                                directorate  \\\n",
              "0  Direct For Social, Behav & Economic Scie   \n",
              "1  Direct For Social, Behav & Economic Scie   \n",
              "2  Direct For Social, Behav & Economic Scie   \n",
              "3  Direct For Social, Behav & Economic Scie   \n",
              "4  Direct For Social, Behav & Economic Scie   \n",
              "\n",
              "                                   division effective_date expiration_date  \\\n",
              "0      Divn Of Social and Economic Sciences     03/15/2018      10/31/2018   \n",
              "1  Division Of Behavioral and Cognitive Sci     10/15/2017      11/30/2022   \n",
              "2      Divn Of Social and Economic Sciences     07/15/2018      06/30/2024   \n",
              "3  Division Of Behavioral and Cognitive Sci     02/15/2018      07/31/2023   \n",
              "4  Division Of Behavioral and Cognitive Sci     02/15/2018      07/31/2024   \n",
              "\n",
              "   award_amount                                           abstract  \n",
              "0       71473.0  Natural disasters place immense stress on gove...  \n",
              "1      199080.0  Extreme and unexpected environmental changes h...  \n",
              "2      298625.0  This award will support the establishment of t...  \n",
              "3       40692.0  The state of Montana is home to nine Native Am...  \n",
              "4       49588.0  The state of Montana is home to nine Native Am...  "
            ],
            "text/html": [
              "\n",
              "  <div id=\"df-45067a6f-3375-4868-8a4c-8f919d9282f8\" class=\"colab-df-container\">\n",
              "    <div>\n",
              "<style scoped>\n",
              "    .dataframe tbody tr th:only-of-type {\n",
              "        vertical-align: middle;\n",
              "    }\n",
              "\n",
              "    .dataframe tbody tr th {\n",
              "        vertical-align: top;\n",
              "    }\n",
              "\n",
              "    .dataframe thead th {\n",
              "        text-align: right;\n",
              "    }\n",
              "</style>\n",
              "<table border=\"1\" class=\"dataframe\">\n",
              "  <thead>\n",
              "    <tr style=\"text-align: right;\">\n",
              "      <th></th>\n",
              "      <th>first_name</th>\n",
              "      <th>middle_name</th>\n",
              "      <th>last_name</th>\n",
              "      <th>email</th>\n",
              "      <th>directorate</th>\n",
              "      <th>division</th>\n",
              "      <th>effective_date</th>\n",
              "      <th>expiration_date</th>\n",
              "      <th>award_amount</th>\n",
              "      <th>abstract</th>\n",
              "    </tr>\n",
              "  </thead>\n",
              "  <tbody>\n",
              "    <tr>\n",
              "      <th>0</th>\n",
              "      <td>Herschel</td>\n",
              "      <td>F</td>\n",
              "      <td>Thomas</td>\n",
              "      <td>herschel.thomas@mail.wvu.edu</td>\n",
              "      <td>Direct For Social, Behav &amp; Economic Scie</td>\n",
              "      <td>Divn Of Social and Economic Sciences</td>\n",
              "      <td>03/15/2018</td>\n",
              "      <td>10/31/2018</td>\n",
              "      <td>71473.0</td>\n",
              "      <td>Natural disasters place immense stress on gove...</td>\n",
              "    </tr>\n",
              "    <tr>\n",
              "      <th>1</th>\n",
              "      <td>Susan</td>\n",
              "      <td>C</td>\n",
              "      <td>Anton</td>\n",
              "      <td>susan.anton@nyu.edu</td>\n",
              "      <td>Direct For Social, Behav &amp; Economic Scie</td>\n",
              "      <td>Division Of Behavioral and Cognitive Sci</td>\n",
              "      <td>10/15/2017</td>\n",
              "      <td>11/30/2022</td>\n",
              "      <td>199080.0</td>\n",
              "      <td>Extreme and unexpected environmental changes h...</td>\n",
              "    </tr>\n",
              "    <tr>\n",
              "      <th>2</th>\n",
              "      <td>Thomas</td>\n",
              "      <td>J</td>\n",
              "      <td>Cova</td>\n",
              "      <td>cova@geog.utah.edu</td>\n",
              "      <td>Direct For Social, Behav &amp; Economic Scie</td>\n",
              "      <td>Divn Of Social and Economic Sciences</td>\n",
              "      <td>07/15/2018</td>\n",
              "      <td>06/30/2024</td>\n",
              "      <td>298625.0</td>\n",
              "      <td>This award will support the establishment of t...</td>\n",
              "    </tr>\n",
              "    <tr>\n",
              "      <th>3</th>\n",
              "      <td>Jeffrey</td>\n",
              "      <td>NaN</td>\n",
              "      <td>Hooker</td>\n",
              "      <td>hooker@cdkc.edu</td>\n",
              "      <td>Direct For Social, Behav &amp; Economic Scie</td>\n",
              "      <td>Division Of Behavioral and Cognitive Sci</td>\n",
              "      <td>02/15/2018</td>\n",
              "      <td>07/31/2023</td>\n",
              "      <td>40692.0</td>\n",
              "      <td>The state of Montana is home to nine Native Am...</td>\n",
              "    </tr>\n",
              "    <tr>\n",
              "      <th>4</th>\n",
              "      <td>Susan</td>\n",
              "      <td>NaN</td>\n",
              "      <td>Penfield</td>\n",
              "      <td>sdp@u.arizona.edu</td>\n",
              "      <td>Direct For Social, Behav &amp; Economic Scie</td>\n",
              "      <td>Division Of Behavioral and Cognitive Sci</td>\n",
              "      <td>02/15/2018</td>\n",
              "      <td>07/31/2024</td>\n",
              "      <td>49588.0</td>\n",
              "      <td>The state of Montana is home to nine Native Am...</td>\n",
              "    </tr>\n",
              "  </tbody>\n",
              "</table>\n",
              "</div>\n",
              "    <div class=\"colab-df-buttons\">\n",
              "\n",
              "  <div class=\"colab-df-container\">\n",
              "    <button class=\"colab-df-convert\" onclick=\"convertToInteractive('df-45067a6f-3375-4868-8a4c-8f919d9282f8')\"\n",
              "            title=\"Convert this dataframe to an interactive table.\"\n",
              "            style=\"display:none;\">\n",
              "\n",
              "  <svg xmlns=\"http://www.w3.org/2000/svg\" height=\"24px\" viewBox=\"0 -960 960 960\">\n",
              "    <path d=\"M120-120v-720h720v720H120Zm60-500h600v-160H180v160Zm220 220h160v-160H400v160Zm0 220h160v-160H400v160ZM180-400h160v-160H180v160Zm440 0h160v-160H620v160ZM180-180h160v-160H180v160Zm440 0h160v-160H620v160Z\"/>\n",
              "  </svg>\n",
              "    </button>\n",
              "\n",
              "  <style>\n",
              "    .colab-df-container {\n",
              "      display:flex;\n",
              "      gap: 12px;\n",
              "    }\n",
              "\n",
              "    .colab-df-convert {\n",
              "      background-color: #E8F0FE;\n",
              "      border: none;\n",
              "      border-radius: 50%;\n",
              "      cursor: pointer;\n",
              "      display: none;\n",
              "      fill: #1967D2;\n",
              "      height: 32px;\n",
              "      padding: 0 0 0 0;\n",
              "      width: 32px;\n",
              "    }\n",
              "\n",
              "    .colab-df-convert:hover {\n",
              "      background-color: #E2EBFA;\n",
              "      box-shadow: 0px 1px 2px rgba(60, 64, 67, 0.3), 0px 1px 3px 1px rgba(60, 64, 67, 0.15);\n",
              "      fill: #174EA6;\n",
              "    }\n",
              "\n",
              "    .colab-df-buttons div {\n",
              "      margin-bottom: 4px;\n",
              "    }\n",
              "\n",
              "    [theme=dark] .colab-df-convert {\n",
              "      background-color: #3B4455;\n",
              "      fill: #D2E3FC;\n",
              "    }\n",
              "\n",
              "    [theme=dark] .colab-df-convert:hover {\n",
              "      background-color: #434B5C;\n",
              "      box-shadow: 0px 1px 3px 1px rgba(0, 0, 0, 0.15);\n",
              "      filter: drop-shadow(0px 1px 2px rgba(0, 0, 0, 0.3));\n",
              "      fill: #FFFFFF;\n",
              "    }\n",
              "  </style>\n",
              "\n",
              "    <script>\n",
              "      const buttonEl =\n",
              "        document.querySelector('#df-45067a6f-3375-4868-8a4c-8f919d9282f8 button.colab-df-convert');\n",
              "      buttonEl.style.display =\n",
              "        google.colab.kernel.accessAllowed ? 'block' : 'none';\n",
              "\n",
              "      async function convertToInteractive(key) {\n",
              "        const element = document.querySelector('#df-45067a6f-3375-4868-8a4c-8f919d9282f8');\n",
              "        const dataTable =\n",
              "          await google.colab.kernel.invokeFunction('convertToInteractive',\n",
              "                                                    [key], {});\n",
              "        if (!dataTable) return;\n",
              "\n",
              "        const docLinkHtml = 'Like what you see? Visit the ' +\n",
              "          '<a target=\"_blank\" href=https://colab.research.google.com/notebooks/data_table.ipynb>data table notebook</a>'\n",
              "          + ' to learn more about interactive tables.';\n",
              "        element.innerHTML = '';\n",
              "        dataTable['output_type'] = 'display_data';\n",
              "        await google.colab.output.renderOutput(dataTable, element);\n",
              "        const docLink = document.createElement('div');\n",
              "        docLink.innerHTML = docLinkHtml;\n",
              "        element.appendChild(docLink);\n",
              "      }\n",
              "    </script>\n",
              "  </div>\n",
              "\n",
              "\n",
              "<div id=\"df-df5c0f4e-49e3-4245-9a38-27ce138cdaae\">\n",
              "  <button class=\"colab-df-quickchart\" onclick=\"quickchart('df-df5c0f4e-49e3-4245-9a38-27ce138cdaae')\"\n",
              "            title=\"Suggest charts\"\n",
              "            style=\"display:none;\">\n",
              "\n",
              "<svg xmlns=\"http://www.w3.org/2000/svg\" height=\"24px\"viewBox=\"0 0 24 24\"\n",
              "     width=\"24px\">\n",
              "    <g>\n",
              "        <path d=\"M19 3H5c-1.1 0-2 .9-2 2v14c0 1.1.9 2 2 2h14c1.1 0 2-.9 2-2V5c0-1.1-.9-2-2-2zM9 17H7v-7h2v7zm4 0h-2V7h2v10zm4 0h-2v-4h2v4z\"/>\n",
              "    </g>\n",
              "</svg>\n",
              "  </button>\n",
              "\n",
              "<style>\n",
              "  .colab-df-quickchart {\n",
              "      --bg-color: #E8F0FE;\n",
              "      --fill-color: #1967D2;\n",
              "      --hover-bg-color: #E2EBFA;\n",
              "      --hover-fill-color: #174EA6;\n",
              "      --disabled-fill-color: #AAA;\n",
              "      --disabled-bg-color: #DDD;\n",
              "  }\n",
              "\n",
              "  [theme=dark] .colab-df-quickchart {\n",
              "      --bg-color: #3B4455;\n",
              "      --fill-color: #D2E3FC;\n",
              "      --hover-bg-color: #434B5C;\n",
              "      --hover-fill-color: #FFFFFF;\n",
              "      --disabled-bg-color: #3B4455;\n",
              "      --disabled-fill-color: #666;\n",
              "  }\n",
              "\n",
              "  .colab-df-quickchart {\n",
              "    background-color: var(--bg-color);\n",
              "    border: none;\n",
              "    border-radius: 50%;\n",
              "    cursor: pointer;\n",
              "    display: none;\n",
              "    fill: var(--fill-color);\n",
              "    height: 32px;\n",
              "    padding: 0;\n",
              "    width: 32px;\n",
              "  }\n",
              "\n",
              "  .colab-df-quickchart:hover {\n",
              "    background-color: var(--hover-bg-color);\n",
              "    box-shadow: 0 1px 2px rgba(60, 64, 67, 0.3), 0 1px 3px 1px rgba(60, 64, 67, 0.15);\n",
              "    fill: var(--button-hover-fill-color);\n",
              "  }\n",
              "\n",
              "  .colab-df-quickchart-complete:disabled,\n",
              "  .colab-df-quickchart-complete:disabled:hover {\n",
              "    background-color: var(--disabled-bg-color);\n",
              "    fill: var(--disabled-fill-color);\n",
              "    box-shadow: none;\n",
              "  }\n",
              "\n",
              "  .colab-df-spinner {\n",
              "    border: 2px solid var(--fill-color);\n",
              "    border-color: transparent;\n",
              "    border-bottom-color: var(--fill-color);\n",
              "    animation:\n",
              "      spin 1s steps(1) infinite;\n",
              "  }\n",
              "\n",
              "  @keyframes spin {\n",
              "    0% {\n",
              "      border-color: transparent;\n",
              "      border-bottom-color: var(--fill-color);\n",
              "      border-left-color: var(--fill-color);\n",
              "    }\n",
              "    20% {\n",
              "      border-color: transparent;\n",
              "      border-left-color: var(--fill-color);\n",
              "      border-top-color: var(--fill-color);\n",
              "    }\n",
              "    30% {\n",
              "      border-color: transparent;\n",
              "      border-left-color: var(--fill-color);\n",
              "      border-top-color: var(--fill-color);\n",
              "      border-right-color: var(--fill-color);\n",
              "    }\n",
              "    40% {\n",
              "      border-color: transparent;\n",
              "      border-right-color: var(--fill-color);\n",
              "      border-top-color: var(--fill-color);\n",
              "    }\n",
              "    60% {\n",
              "      border-color: transparent;\n",
              "      border-right-color: var(--fill-color);\n",
              "    }\n",
              "    80% {\n",
              "      border-color: transparent;\n",
              "      border-right-color: var(--fill-color);\n",
              "      border-bottom-color: var(--fill-color);\n",
              "    }\n",
              "    90% {\n",
              "      border-color: transparent;\n",
              "      border-bottom-color: var(--fill-color);\n",
              "    }\n",
              "  }\n",
              "</style>\n",
              "\n",
              "  <script>\n",
              "    async function quickchart(key) {\n",
              "      const quickchartButtonEl =\n",
              "        document.querySelector('#' + key + ' button');\n",
              "      quickchartButtonEl.disabled = true;  // To prevent multiple clicks.\n",
              "      quickchartButtonEl.classList.add('colab-df-spinner');\n",
              "      try {\n",
              "        const charts = await google.colab.kernel.invokeFunction(\n",
              "            'suggestCharts', [key], {});\n",
              "      } catch (error) {\n",
              "        console.error('Error during call to suggestCharts:', error);\n",
              "      }\n",
              "      quickchartButtonEl.classList.remove('colab-df-spinner');\n",
              "      quickchartButtonEl.classList.add('colab-df-quickchart-complete');\n",
              "    }\n",
              "    (() => {\n",
              "      let quickchartButtonEl =\n",
              "        document.querySelector('#df-df5c0f4e-49e3-4245-9a38-27ce138cdaae button');\n",
              "      quickchartButtonEl.style.display =\n",
              "        google.colab.kernel.accessAllowed ? 'block' : 'none';\n",
              "    })();\n",
              "  </script>\n",
              "</div>\n",
              "    </div>\n",
              "  </div>\n"
            ]
          },
          "metadata": {},
          "execution_count": 14
        }
      ]
    },
    {
      "cell_type": "code",
      "source": [
        "nsf_df[\"division\"].value_counts()"
      ],
      "metadata": {
        "colab": {
          "base_uri": "https://localhost:8080/"
        },
        "id": "NHPPyO19xC00",
        "outputId": "eb76fbd0-3724-476a-835b-5437284e9929"
      },
      "execution_count": 11,
      "outputs": [
        {
          "output_type": "execute_result",
          "data": {
            "text/plain": [
              "Division Of Behavioral and Cognitive Sci    481\n",
              "Divn Of Social and Economic Sciences        388\n",
              "SBE Off Of Multidisciplinary Activities      87\n",
              "National Center For S&E Statistics            8\n",
              "Name: division, dtype: int64"
            ]
          },
          "metadata": {},
          "execution_count": 11
        }
      ]
    },
    {
      "cell_type": "markdown",
      "source": [
        "# Dynamically scrape the publishing-related info about the author on the NSF award list"
      ],
      "metadata": {
        "id": "v5w1mSiSvbL3"
      }
    },
    {
      "cell_type": "markdown",
      "source": [
        "## Define helper functions to dynamically scrape citation metrics, publication details, and research interests of a given author"
      ],
      "metadata": {
        "id": "mCiGI7G4v0kI"
      }
    },
    {
      "cell_type": "code",
      "source": [
        "# Finds Google Scholar urls\n",
        "def find_url(driver, full_name, email_domain):\n",
        "    url = f\"https://scholar.google.com/citations?hl=en&view_op=search_authors&mauthors={full_name}\"\n",
        "    driver.get(url)\n",
        "    time.sleep(3)\n",
        "\n",
        "    authors = driver.find_elements(By.CSS_SELECTOR, \"div.gs_ai.gs_scl.gs_ai_chpr\")\n",
        "    for author in authors:\n",
        "        author_email_text = author.find_element(By.CSS_SELECTOR, \"div.gs_ai_eml\").text\n",
        "        if 'Verified email at ' in author_email_text:\n",
        "            author_email_domain = author_email_text.split('Verified email at ')[1]\n",
        "            if email_domain == author_email_domain:\n",
        "                link_element = author.find_element(By.CSS_SELECTOR, \"a.gs_ai_pho\")\n",
        "                return link_element.get_attribute('href')\n",
        "\n",
        "    return None\n",
        "\n",
        "\n",
        "# Finds citations\n",
        "def find_citations(driver, url):\n",
        "    driver.set_window_size(800, 1000)\n",
        "    driver.get(url)\n",
        "    time.sleep(3)\n",
        "\n",
        "    cited_by_tab = driver.find_element(By.ID, \"gsc_prf_t-cit\")\n",
        "    cited_by_tab.click()\n",
        "    time.sleep(3)\n",
        "\n",
        "    total_citations = driver.find_element(By.XPATH, '//*[@id=\"gsc_rsb_st\"]/tbody/tr[1]/td[2]').text\n",
        "    h_index = driver.find_element(By.XPATH, '//*[@id=\"gsc_rsb_st\"]/tbody/tr[2]/td[2]').text\n",
        "\n",
        "    year_citations = {}\n",
        "    year_elements = driver.find_elements(By.CSS_SELECTOR, \"div.gsc_md_hist_w .gsc_g_t\")\n",
        "    citation_elements = driver.find_elements(By.CSS_SELECTOR, \"div.gsc_md_hist_w .gsc_g_a\")\n",
        "\n",
        "    for year, citation in zip(year_elements, citation_elements):\n",
        "        citation_count = driver.execute_script(\"return arguments[0].textContent\", citation)\n",
        "        year_citations[year.text] = citation_count\n",
        "\n",
        "    return total_citations, h_index, year_citations\n",
        "\n",
        "\n",
        "# Finds publications\n",
        "# Here, I retreive not only the tile of the publication, but also its citation count, year of publication, and paper abstract\n",
        "from selenium.webdriver.support.ui import WebDriverWait\n",
        "def find_publications(driver, url):\n",
        "    driver.get(url)\n",
        "    time.sleep(3)\n",
        "\n",
        "    while True:\n",
        "        try:\n",
        "            show_more_button = driver.find_element(By.ID, \"gsc_bpf_more\")\n",
        "            if show_more_button.is_displayed() and show_more_button.is_enabled():\n",
        "                show_more_button.click()\n",
        "                time.sleep(2)\n",
        "            else:\n",
        "                break\n",
        "        except (NoSuchElementException, ElementClickInterceptedException):\n",
        "            break\n",
        "\n",
        "    publications = []\n",
        "    rows = driver.find_elements(By.CSS_SELECTOR, \"tr.gsc_a_tr\")\n",
        "\n",
        "    for row in rows:\n",
        "        # Extract title\n",
        "        title_element = row.find_element(By.CSS_SELECTOR, \"a.gsc_a_at\")\n",
        "        title = title_element.text\n",
        "\n",
        "        # Extract coauthors\n",
        "        coauthors_element = row.find_elements(By.CSS_SELECTOR, \"td.gsc_a_t div.gs_gray\")[0]\n",
        "        coauthors = coauthors_element.text if coauthors_element else \"Coauthors not found\"\n",
        "\n",
        "        # Extract citation count\n",
        "        citation_element = row.find_element(By.CSS_SELECTOR, \"td.gsc_a_c a.gsc_a_ac.gs_ibl\")\n",
        "        n_citation = citation_element.text if citation_element else \"0\"\n",
        "\n",
        "        # Extract year of publication\n",
        "        year_element = row.find_element(By.CSS_SELECTOR, \"td.gsc_a_y span.gsc_a_h.gsc_a_hc.gs_ibl\")\n",
        "        year = year_element.text if year_element else \"Year not found\"\n",
        "\n",
        "        # Navigate to the citation link page to extract abstract\n",
        "        publication_url = title_element.get_attribute('href')\n",
        "        driver.get(publication_url)\n",
        "        time.sleep(3)  # Wait for the page to load\n",
        "\n",
        "        # Extract the abstract\n",
        "        try:\n",
        "            abstract_element = driver.find_element(By.CSS_SELECTOR, \"div.gsh_csp\") # div.gsh_small\n",
        "            abstract = abstract_element.text\n",
        "        except NoSuchElementException:\n",
        "            abstract = \"Abstract not found\"\n",
        "\n",
        "        driver.back()\n",
        "\n",
        "        publications.append({\n",
        "            \"title\": title,\n",
        "            \"year\": year,\n",
        "            \"coauthors\": coauthors,\n",
        "            \"n_citation\": n_citation\n",
        "            \"abstract\": abstract\n",
        "        })\n",
        "\n",
        "    return publications, publication_url_lst\n",
        "\n",
        "# Finds interests\n",
        "def find_interests(driver, url):\n",
        "    driver.get(url)\n",
        "    time.sleep(3)\n",
        "\n",
        "    interests = []\n",
        "\n",
        "    try:\n",
        "        interest = driver.find_elements(By.CSS_SELECTOR, \"div#gsc_prf_int a.gsc_prf_inta\")\n",
        "        interests = [i.text for i in interest] if interest else None\n",
        "\n",
        "    except Exception as e:\n",
        "        print(f\"Error occurred: {e}\")\n",
        "\n",
        "    return interests"
      ],
      "metadata": {
        "id": "nFdtOrQgwHFj"
      },
      "execution_count": 12,
      "outputs": []
    },
    {
      "cell_type": "markdown",
      "source": [
        "## Define the function that scrapes publishing info of authors by relating to the `nsf_data` dataframe just created"
      ],
      "metadata": {
        "id": "QaFSM2PuwJAc"
      }
    },
    {
      "cell_type": "code",
      "execution_count": 13,
      "metadata": {
        "id": "HzZEjDlo7oIx"
      },
      "outputs": [],
      "source": [
        "# Cleans and updates the dataframe\n",
        "from selenium.webdriver.chrome.service import Service as ChromeService\n",
        "\n",
        "def update_and_save_dataframe(df, chrome_driver_path):\n",
        "    chrome_options = webdriver.ChromeOptions()\n",
        "    chrome_options.add_argument('--headless')  # Ensure GUI is off\n",
        "    chrome_options.add_argument('--no-sandbox')  # Bypass OS security model\n",
        "    chrome_options.add_argument('--disable-dev-shm-usage')  # Overcome limited resource problems\n",
        "\n",
        "    # Set up ChromeService using the specified path\n",
        "    service = ChromeService(executable_path=chrome_driver_path)\n",
        "    driver = webdriver.Chrome(service=service, options=chrome_options)\n",
        "\n",
        "    # Updates Google Scholar urls\n",
        "    df = df.dropna(subset=['email'])\n",
        "    df['url'] = None\n",
        "\n",
        "    for index, row in df.iterrows():\n",
        "        full_name = f\"{row['first_name']} {row['middle_name']} {row['last_name']}\".strip() if pd.notna(row['middle_name']) else f\"{row['first_name']} {row['last_name']}\"\n",
        "        email_domain = row['email'].split('@')[-1]\n",
        "        url = find_url(driver, full_name, email_domain)\n",
        "        df.loc[index, 'url'] = url\n",
        "        time.sleep(3)\n",
        "\n",
        "    df = df.dropna(subset=['url'])\n",
        "    df['publications'] = None\n",
        "    df['interests'] = None\n",
        "\n",
        "    for index, row in df.iterrows():\n",
        "        url = row['url']\n",
        "\n",
        "        # Updates citations\n",
        "        total_citations, h_index, year_citations = find_citations(driver, url)\n",
        "        df.at[index, 'total_citations'] = total_citations\n",
        "        df.at[index, 'h_index'] = h_index\n",
        "\n",
        "        for year, citations in year_citations.items():\n",
        "            col_name = f'citations_{year}'\n",
        "            df.at[index, col_name] = citations\n",
        "\n",
        "        # Updates publications\n",
        "        publications_dict, = find_publications(driver, url)\n",
        "        df.at[index, 'publications'] = publications # For now I store the whole dictionary of title, n_citation, year, and abstract in a whole cell (which definitely could be improved in future)\n",
        "\n",
        "        # Updates interests\n",
        "        interests = find_interests(driver, url)\n",
        "        if interests:\n",
        "            df.at[index, 'interests'] = [interest for interest in interests]\n",
        "\n",
        "        time.sleep(3)\n",
        "\n",
        "    driver.quit()\n",
        "\n",
        "    df.to_csv('2018_nsf_google_scholar.csv', index=False)\n",
        "\n",
        "    return url_list\n"
      ]
    },
    {
      "cell_type": "code",
      "execution_count": 17,
      "metadata": {
        "id": "0fXtjhYB7oIz"
      },
      "outputs": [],
      "source": [
        "# path to chromedriver\n",
        "chrome_driver_path = '/usr/local/lib/python3.10/dist-packages/chromedriver_autoinstaller/120/chromedriver'"
      ]
    },
    {
      "cell_type": "code",
      "source": [
        "# example use\n",
        "update_and_save_dataframe(nsf_df[:1], chrome_driver_path) # updates and saves the dataframe into a new csv file"
      ],
      "metadata": {
        "colab": {
          "base_uri": "https://localhost:8080/",
          "height": 1000
        },
        "id": "OYxvR4V0Ednx",
        "outputId": "0408f3e1-fd34-4484-e6a7-cc08b5f151a0"
      },
      "execution_count": 18,
      "outputs": [
        {
          "output_type": "error",
          "ename": "StaleElementReferenceException",
          "evalue": "Message: stale element reference: stale element not found\n  (Session info: chrome-headless-shell=120.0.6099.224); For documentation on this error, please visit: https://www.selenium.dev/documentation/webdriver/troubleshooting/errors#stale-element-reference-exception\nStacktrace:\n#0 0x5a46d8098f83 <unknown>\n#1 0x5a46d7d51cf7 <unknown>\n#2 0x5a46d7d63890 <unknown>\n#3 0x5a46d7d58d54 <unknown>\n#4 0x5a46d7d56bad <unknown>\n#5 0x5a46d7d5a798 <unknown>\n#6 0x5a46d7d5a8ec <unknown>\n#7 0x5a46d7da16c7 <unknown>\n#8 0x5a46d7da1aa1 <unknown>\n#9 0x5a46d7d94c76 <unknown>\n#10 0x5a46d7dcb0dd <unknown>\n#11 0x5a46d7d94b49 <unknown>\n#12 0x5a46d7dcb4ce <unknown>\n#13 0x5a46d7dea006 <unknown>\n#14 0x5a46d7dcae53 <unknown>\n#15 0x5a46d7d92dd4 <unknown>\n#16 0x5a46d7d941de <unknown>\n#17 0x5a46d805d531 <unknown>\n#18 0x5a46d8061455 <unknown>\n#19 0x5a46d8049f55 <unknown>\n#20 0x5a46d80620ef <unknown>\n#21 0x5a46d802d99f <unknown>\n#22 0x5a46d8086008 <unknown>\n#23 0x5a46d80861d7 <unknown>\n#24 0x5a46d8098124 <unknown>\n#25 0x7d68236a9ac3 <unknown>\n",
          "traceback": [
            "\u001b[0;31m---------------------------------------------------------------------------\u001b[0m",
            "\u001b[0;31mStaleElementReferenceException\u001b[0m            Traceback (most recent call last)",
            "\u001b[0;32m<ipython-input-18-94eaeaa5c333>\u001b[0m in \u001b[0;36m<cell line: 2>\u001b[0;34m()\u001b[0m\n\u001b[1;32m      1\u001b[0m \u001b[0;31m# example use\u001b[0m\u001b[0;34m\u001b[0m\u001b[0;34m\u001b[0m\u001b[0m\n\u001b[0;32m----> 2\u001b[0;31m \u001b[0mupdate_and_save_dataframe\u001b[0m\u001b[0;34m(\u001b[0m\u001b[0mnsf_df\u001b[0m\u001b[0;34m[\u001b[0m\u001b[0;34m:\u001b[0m\u001b[0;36m1\u001b[0m\u001b[0;34m]\u001b[0m\u001b[0;34m,\u001b[0m \u001b[0mchrome_driver_path\u001b[0m\u001b[0;34m)\u001b[0m \u001b[0;31m# updates and saves the dataframe into a new csv file\u001b[0m\u001b[0;34m\u001b[0m\u001b[0;34m\u001b[0m\u001b[0m\n\u001b[0m",
            "\u001b[0;32m<ipython-input-13-bdcdbf04b531>\u001b[0m in \u001b[0;36mupdate_and_save_dataframe\u001b[0;34m(df, chrome_driver_path)\u001b[0m\n\u001b[1;32m     40\u001b[0m \u001b[0;34m\u001b[0m\u001b[0m\n\u001b[1;32m     41\u001b[0m         \u001b[0;31m# Updates publications\u001b[0m\u001b[0;34m\u001b[0m\u001b[0;34m\u001b[0m\u001b[0m\n\u001b[0;32m---> 42\u001b[0;31m         \u001b[0mpublications\u001b[0m \u001b[0;34m=\u001b[0m \u001b[0mfind_publications\u001b[0m\u001b[0;34m(\u001b[0m\u001b[0mdriver\u001b[0m\u001b[0;34m,\u001b[0m \u001b[0murl\u001b[0m\u001b[0;34m)\u001b[0m\u001b[0;34m\u001b[0m\u001b[0;34m\u001b[0m\u001b[0m\n\u001b[0m\u001b[1;32m     43\u001b[0m         \u001b[0mdf\u001b[0m\u001b[0;34m.\u001b[0m\u001b[0mat\u001b[0m\u001b[0;34m[\u001b[0m\u001b[0mindex\u001b[0m\u001b[0;34m,\u001b[0m \u001b[0;34m'publications'\u001b[0m\u001b[0;34m]\u001b[0m \u001b[0;34m=\u001b[0m \u001b[0mpublications\u001b[0m \u001b[0;31m# For now I store the whole dictionary of title, n_citation, year, and abstract in a whole cell (which definitely could be improved in future)\u001b[0m\u001b[0;34m\u001b[0m\u001b[0;34m\u001b[0m\u001b[0m\n\u001b[1;32m     44\u001b[0m \u001b[0;34m\u001b[0m\u001b[0m\n",
            "\u001b[0;32m<ipython-input-12-576e51033263>\u001b[0m in \u001b[0;36mfind_publications\u001b[0;34m(driver, url)\u001b[0m\n\u001b[1;32m     64\u001b[0m     \u001b[0;32mfor\u001b[0m \u001b[0mrow\u001b[0m \u001b[0;32min\u001b[0m \u001b[0mrows\u001b[0m\u001b[0;34m:\u001b[0m\u001b[0;34m\u001b[0m\u001b[0;34m\u001b[0m\u001b[0m\n\u001b[1;32m     65\u001b[0m         \u001b[0;31m# Extract title\u001b[0m\u001b[0;34m\u001b[0m\u001b[0;34m\u001b[0m\u001b[0m\n\u001b[0;32m---> 66\u001b[0;31m         \u001b[0mtitle_element\u001b[0m \u001b[0;34m=\u001b[0m \u001b[0mrow\u001b[0m\u001b[0;34m.\u001b[0m\u001b[0mfind_element\u001b[0m\u001b[0;34m(\u001b[0m\u001b[0mBy\u001b[0m\u001b[0;34m.\u001b[0m\u001b[0mCSS_SELECTOR\u001b[0m\u001b[0;34m,\u001b[0m \u001b[0;34m\"a.gsc_a_at\"\u001b[0m\u001b[0;34m)\u001b[0m\u001b[0;34m\u001b[0m\u001b[0;34m\u001b[0m\u001b[0m\n\u001b[0m\u001b[1;32m     67\u001b[0m         \u001b[0mtitle\u001b[0m \u001b[0;34m=\u001b[0m \u001b[0mtitle_element\u001b[0m\u001b[0;34m.\u001b[0m\u001b[0mtext\u001b[0m\u001b[0;34m\u001b[0m\u001b[0;34m\u001b[0m\u001b[0m\n\u001b[1;32m     68\u001b[0m \u001b[0;34m\u001b[0m\u001b[0m\n",
            "\u001b[0;32m/usr/local/lib/python3.10/dist-packages/selenium/webdriver/remote/webelement.py\u001b[0m in \u001b[0;36mfind_element\u001b[0;34m(self, by, value)\u001b[0m\n\u001b[1;32m    415\u001b[0m             \u001b[0mvalue\u001b[0m \u001b[0;34m=\u001b[0m \u001b[0;34mf'[name=\"{value}\"]'\u001b[0m\u001b[0;34m\u001b[0m\u001b[0;34m\u001b[0m\u001b[0m\n\u001b[1;32m    416\u001b[0m \u001b[0;34m\u001b[0m\u001b[0m\n\u001b[0;32m--> 417\u001b[0;31m         \u001b[0;32mreturn\u001b[0m \u001b[0mself\u001b[0m\u001b[0;34m.\u001b[0m\u001b[0m_execute\u001b[0m\u001b[0;34m(\u001b[0m\u001b[0mCommand\u001b[0m\u001b[0;34m.\u001b[0m\u001b[0mFIND_CHILD_ELEMENT\u001b[0m\u001b[0;34m,\u001b[0m \u001b[0;34m{\u001b[0m\u001b[0;34m\"using\"\u001b[0m\u001b[0;34m:\u001b[0m \u001b[0mby\u001b[0m\u001b[0;34m,\u001b[0m \u001b[0;34m\"value\"\u001b[0m\u001b[0;34m:\u001b[0m \u001b[0mvalue\u001b[0m\u001b[0;34m}\u001b[0m\u001b[0;34m)\u001b[0m\u001b[0;34m[\u001b[0m\u001b[0;34m\"value\"\u001b[0m\u001b[0;34m]\u001b[0m\u001b[0;34m\u001b[0m\u001b[0;34m\u001b[0m\u001b[0m\n\u001b[0m\u001b[1;32m    418\u001b[0m \u001b[0;34m\u001b[0m\u001b[0m\n\u001b[1;32m    419\u001b[0m     \u001b[0;32mdef\u001b[0m \u001b[0mfind_elements\u001b[0m\u001b[0;34m(\u001b[0m\u001b[0mself\u001b[0m\u001b[0;34m,\u001b[0m \u001b[0mby\u001b[0m\u001b[0;34m=\u001b[0m\u001b[0mBy\u001b[0m\u001b[0;34m.\u001b[0m\u001b[0mID\u001b[0m\u001b[0;34m,\u001b[0m \u001b[0mvalue\u001b[0m\u001b[0;34m=\u001b[0m\u001b[0;32mNone\u001b[0m\u001b[0;34m)\u001b[0m \u001b[0;34m->\u001b[0m \u001b[0mList\u001b[0m\u001b[0;34m[\u001b[0m\u001b[0mWebElement\u001b[0m\u001b[0;34m]\u001b[0m\u001b[0;34m:\u001b[0m\u001b[0;34m\u001b[0m\u001b[0;34m\u001b[0m\u001b[0m\n",
            "\u001b[0;32m/usr/local/lib/python3.10/dist-packages/selenium/webdriver/remote/webelement.py\u001b[0m in \u001b[0;36m_execute\u001b[0;34m(self, command, params)\u001b[0m\n\u001b[1;32m    393\u001b[0m             \u001b[0mparams\u001b[0m \u001b[0;34m=\u001b[0m \u001b[0;34m{\u001b[0m\u001b[0;34m}\u001b[0m\u001b[0;34m\u001b[0m\u001b[0;34m\u001b[0m\u001b[0m\n\u001b[1;32m    394\u001b[0m         \u001b[0mparams\u001b[0m\u001b[0;34m[\u001b[0m\u001b[0;34m\"id\"\u001b[0m\u001b[0;34m]\u001b[0m \u001b[0;34m=\u001b[0m \u001b[0mself\u001b[0m\u001b[0;34m.\u001b[0m\u001b[0m_id\u001b[0m\u001b[0;34m\u001b[0m\u001b[0;34m\u001b[0m\u001b[0m\n\u001b[0;32m--> 395\u001b[0;31m         \u001b[0;32mreturn\u001b[0m \u001b[0mself\u001b[0m\u001b[0;34m.\u001b[0m\u001b[0m_parent\u001b[0m\u001b[0;34m.\u001b[0m\u001b[0mexecute\u001b[0m\u001b[0;34m(\u001b[0m\u001b[0mcommand\u001b[0m\u001b[0;34m,\u001b[0m \u001b[0mparams\u001b[0m\u001b[0;34m)\u001b[0m\u001b[0;34m\u001b[0m\u001b[0;34m\u001b[0m\u001b[0m\n\u001b[0m\u001b[1;32m    396\u001b[0m \u001b[0;34m\u001b[0m\u001b[0m\n\u001b[1;32m    397\u001b[0m     \u001b[0;32mdef\u001b[0m \u001b[0mfind_element\u001b[0m\u001b[0;34m(\u001b[0m\u001b[0mself\u001b[0m\u001b[0;34m,\u001b[0m \u001b[0mby\u001b[0m\u001b[0;34m=\u001b[0m\u001b[0mBy\u001b[0m\u001b[0;34m.\u001b[0m\u001b[0mID\u001b[0m\u001b[0;34m,\u001b[0m \u001b[0mvalue\u001b[0m\u001b[0;34m=\u001b[0m\u001b[0;32mNone\u001b[0m\u001b[0;34m)\u001b[0m \u001b[0;34m->\u001b[0m \u001b[0mWebElement\u001b[0m\u001b[0;34m:\u001b[0m\u001b[0;34m\u001b[0m\u001b[0;34m\u001b[0m\u001b[0m\n",
            "\u001b[0;32m/usr/local/lib/python3.10/dist-packages/selenium/webdriver/remote/webdriver.py\u001b[0m in \u001b[0;36mexecute\u001b[0;34m(self, driver_command, params)\u001b[0m\n\u001b[1;32m    345\u001b[0m         \u001b[0mresponse\u001b[0m \u001b[0;34m=\u001b[0m \u001b[0mself\u001b[0m\u001b[0;34m.\u001b[0m\u001b[0mcommand_executor\u001b[0m\u001b[0;34m.\u001b[0m\u001b[0mexecute\u001b[0m\u001b[0;34m(\u001b[0m\u001b[0mdriver_command\u001b[0m\u001b[0;34m,\u001b[0m \u001b[0mparams\u001b[0m\u001b[0;34m)\u001b[0m\u001b[0;34m\u001b[0m\u001b[0;34m\u001b[0m\u001b[0m\n\u001b[1;32m    346\u001b[0m         \u001b[0;32mif\u001b[0m \u001b[0mresponse\u001b[0m\u001b[0;34m:\u001b[0m\u001b[0;34m\u001b[0m\u001b[0;34m\u001b[0m\u001b[0m\n\u001b[0;32m--> 347\u001b[0;31m             \u001b[0mself\u001b[0m\u001b[0;34m.\u001b[0m\u001b[0merror_handler\u001b[0m\u001b[0;34m.\u001b[0m\u001b[0mcheck_response\u001b[0m\u001b[0;34m(\u001b[0m\u001b[0mresponse\u001b[0m\u001b[0;34m)\u001b[0m\u001b[0;34m\u001b[0m\u001b[0;34m\u001b[0m\u001b[0m\n\u001b[0m\u001b[1;32m    348\u001b[0m             \u001b[0mresponse\u001b[0m\u001b[0;34m[\u001b[0m\u001b[0;34m\"value\"\u001b[0m\u001b[0;34m]\u001b[0m \u001b[0;34m=\u001b[0m \u001b[0mself\u001b[0m\u001b[0;34m.\u001b[0m\u001b[0m_unwrap_value\u001b[0m\u001b[0;34m(\u001b[0m\u001b[0mresponse\u001b[0m\u001b[0;34m.\u001b[0m\u001b[0mget\u001b[0m\u001b[0;34m(\u001b[0m\u001b[0;34m\"value\"\u001b[0m\u001b[0;34m,\u001b[0m \u001b[0;32mNone\u001b[0m\u001b[0;34m)\u001b[0m\u001b[0;34m)\u001b[0m\u001b[0;34m\u001b[0m\u001b[0;34m\u001b[0m\u001b[0m\n\u001b[1;32m    349\u001b[0m             \u001b[0;32mreturn\u001b[0m \u001b[0mresponse\u001b[0m\u001b[0;34m\u001b[0m\u001b[0;34m\u001b[0m\u001b[0m\n",
            "\u001b[0;32m/usr/local/lib/python3.10/dist-packages/selenium/webdriver/remote/errorhandler.py\u001b[0m in \u001b[0;36mcheck_response\u001b[0;34m(self, response)\u001b[0m\n\u001b[1;32m    227\u001b[0m                 \u001b[0malert_text\u001b[0m \u001b[0;34m=\u001b[0m \u001b[0mvalue\u001b[0m\u001b[0;34m[\u001b[0m\u001b[0;34m\"alert\"\u001b[0m\u001b[0;34m]\u001b[0m\u001b[0;34m.\u001b[0m\u001b[0mget\u001b[0m\u001b[0;34m(\u001b[0m\u001b[0;34m\"text\"\u001b[0m\u001b[0;34m)\u001b[0m\u001b[0;34m\u001b[0m\u001b[0;34m\u001b[0m\u001b[0m\n\u001b[1;32m    228\u001b[0m             \u001b[0;32mraise\u001b[0m \u001b[0mexception_class\u001b[0m\u001b[0;34m(\u001b[0m\u001b[0mmessage\u001b[0m\u001b[0;34m,\u001b[0m \u001b[0mscreen\u001b[0m\u001b[0;34m,\u001b[0m \u001b[0mstacktrace\u001b[0m\u001b[0;34m,\u001b[0m \u001b[0malert_text\u001b[0m\u001b[0;34m)\u001b[0m  \u001b[0;31m# type: ignore[call-arg]  # mypy is not smart enough here\u001b[0m\u001b[0;34m\u001b[0m\u001b[0;34m\u001b[0m\u001b[0m\n\u001b[0;32m--> 229\u001b[0;31m         \u001b[0;32mraise\u001b[0m \u001b[0mexception_class\u001b[0m\u001b[0;34m(\u001b[0m\u001b[0mmessage\u001b[0m\u001b[0;34m,\u001b[0m \u001b[0mscreen\u001b[0m\u001b[0;34m,\u001b[0m \u001b[0mstacktrace\u001b[0m\u001b[0;34m)\u001b[0m\u001b[0;34m\u001b[0m\u001b[0;34m\u001b[0m\u001b[0m\n\u001b[0m",
            "\u001b[0;31mStaleElementReferenceException\u001b[0m: Message: stale element reference: stale element not found\n  (Session info: chrome-headless-shell=120.0.6099.224); For documentation on this error, please visit: https://www.selenium.dev/documentation/webdriver/troubleshooting/errors#stale-element-reference-exception\nStacktrace:\n#0 0x5a46d8098f83 <unknown>\n#1 0x5a46d7d51cf7 <unknown>\n#2 0x5a46d7d63890 <unknown>\n#3 0x5a46d7d58d54 <unknown>\n#4 0x5a46d7d56bad <unknown>\n#5 0x5a46d7d5a798 <unknown>\n#6 0x5a46d7d5a8ec <unknown>\n#7 0x5a46d7da16c7 <unknown>\n#8 0x5a46d7da1aa1 <unknown>\n#9 0x5a46d7d94c76 <unknown>\n#10 0x5a46d7dcb0dd <unknown>\n#11 0x5a46d7d94b49 <unknown>\n#12 0x5a46d7dcb4ce <unknown>\n#13 0x5a46d7dea006 <unknown>\n#14 0x5a46d7dcae53 <unknown>\n#15 0x5a46d7d92dd4 <unknown>\n#16 0x5a46d7d941de <unknown>\n#17 0x5a46d805d531 <unknown>\n#18 0x5a46d8061455 <unknown>\n#19 0x5a46d8049f55 <unknown>\n#20 0x5a46d80620ef <unknown>\n#21 0x5a46d802d99f <unknown>\n#22 0x5a46d8086008 <unknown>\n#23 0x5a46d80861d7 <unknown>\n#24 0x5a46d8098124 <unknown>\n#25 0x7d68236a9ac3 <unknown>\n"
          ]
        }
      ]
    }
  ],
  "metadata": {
    "kernelspec": {
      "display_name": "base",
      "language": "python",
      "name": "python3"
    },
    "language_info": {
      "codemirror_mode": {
        "name": "ipython",
        "version": 3
      },
      "file_extension": ".py",
      "mimetype": "text/x-python",
      "name": "python",
      "nbconvert_exporter": "python",
      "pygments_lexer": "ipython3",
      "version": "3.11.5"
    },
    "colab": {
      "provenance": []
    }
  },
  "nbformat": 4,
  "nbformat_minor": 0
}