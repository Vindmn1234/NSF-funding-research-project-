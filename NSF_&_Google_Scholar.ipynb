{
  "cells": [
    {
      "cell_type": "markdown",
      "metadata": {
        "id": "yZA8dVFisev0"
      },
      "source": [
        "# Import libraries"
      ]
    },
    {
      "cell_type": "code",
      "execution_count": null,
      "metadata": {
        "colab": {
          "base_uri": "https://localhost:8080/"
        },
        "id": "l43IGp9nseLY",
        "outputId": "bbcea147-ac79-4a9b-aee6-a2a49f6955a4"
      },
      "outputs": [],
      "source": [
        "import os\n",
        "import pandas as pd"
      ]
    },
    {
      "cell_type": "markdown",
      "metadata": {},
      "source": [
        "# Import web scraping helper functions"
      ]
    },
    {
      "cell_type": "code",
      "execution_count": null,
      "metadata": {},
      "outputs": [],
      "source": [
        "import scraping_helper_functions.get_all_NSF as get_all_NSF\n",
        "import scraping_helper_functions.get_author_info as get_author_info\n",
        "import scraping_helper_functions.get_pub_info as get_pub_info"
      ]
    },
    {
      "cell_type": "markdown",
      "metadata": {
        "id": "7d14toXYsmiy"
      },
      "source": [
        "# Load NSF data (from 2011 to 2020)"
      ]
    },
    {
      "cell_type": "markdown",
      "metadata": {
        "id": "Q9VGY9EitlcC"
      },
      "source": [
        "This is a website introducing the directory and affiliated divisions: https://new.nsf.gov/about/directorates-offices\n",
        "\n",
        "In this project, we focus on the Division Of Behavioral and Cognitive Science affiliated in the Directory For Social, Behavioral & Economic Science. In addition, we choose 2011 to 2020 as the 10-year range, based on which we scrape NSF awarding information."
      ]
    },
    {
      "cell_type": "markdown",
      "metadata": {},
      "source": [
        "- `funding_info_2011_2020` table\n",
        "    - first_name: first name of funded authors\n",
        "    - middle_name: middle name of funded authors\n",
        "    - last_name: last name of funded authors\n",
        "    - email: email address of funded authors \n",
        "    - directorate: directorate of NSF foundation\n",
        "    - division: division under the directorate of NSF foundation\n",
        "    - effective_date: the date when the funding begins\n",
        "    - expiration_date: the date when the funding expires\n",
        "    - award_amount: NSF funding amount\n",
        "    - award_title: title of awared projects\n",
        "    - abstract: abstract used for NSF funding proposal\n",
        "    - year: year at which the author is awarded"
      ]
    },
    {
      "cell_type": "code",
      "execution_count": null,
      "metadata": {},
      "outputs": [],
      "source": [
        "nsf_data_file_path = 'database/funding_info_2011_2020.csv'\n",
        "\n",
        "if os.path.exists(nsf_data_file_path):\n",
        "    nsf_df = pd.read_csv(nsf_data_file_path)\n",
        "else:\n",
        "    nsf_df = get_all_NSF.process_all_folders(base_path=\"nsf_data\", \n",
        "                                             start_year=2011, end_year=2020, \n",
        "                                             filter_directorate=\"Direct For Social, Behav & Economic Scie\", \n",
        "                                             filter_division=\"Division Of Behavioral and Cognitive Sci\")\n",
        "    nsf_df.to_csv(nsf_data_file_path, index=False)"
      ]
    },
    {
      "cell_type": "code",
      "execution_count": null,
      "metadata": {
        "colab": {
          "base_uri": "https://localhost:8080/",
          "height": 206
        },
        "id": "vahCdjONw_x8",
        "outputId": "3ee02e51-8c67-4a11-d699-8acbac06d2a0"
      },
      "outputs": [],
      "source": [
        "nsf_df.head()"
      ]
    },
    {
      "cell_type": "markdown",
      "metadata": {
        "id": "v5w1mSiSvbL3"
      },
      "source": [
        "# Dynamically scrape the author_info about the author on the NSF award list"
      ]
    },
    {
      "cell_type": "markdown",
      "metadata": {},
      "source": [
        "- `author_info_<year>` table\n",
        "    - email: funded authors' email address\n",
        "    - url: funded authors' Google Scholar Page\n",
        "    - interests: funded authors' research interests\n",
        "    - affiliation: funded author' affiliation (university or institutions)\n",
        "    - total_citations: funded authors'total number of citations \n",
        "    - h_index: funded authors' h-index\n",
        "    - citation_5_year_before_sum: funded authors' total number of citations within 5 years before when they were awarded\n",
        "    - citation_5_year_after_sum: funded authors' total number of citations within 5 years after when they were awarded"
      ]
    },
    {
      "cell_type": "code",
      "execution_count": null,
      "metadata": {},
      "outputs": [],
      "source": [
        "# Define a year of interest\n",
        "year = 2018"
      ]
    },
    {
      "cell_type": "code",
      "execution_count": null,
      "metadata": {},
      "outputs": [],
      "source": [
        "# A sample use of getting author info for a specific year \n",
        "# (remember to replace the `year` argument!)\n",
        "if not os.path.exists(f\"database/author_info_{year}.csv\"):\n",
        "    get_author_info.retrieve_author_info(nsf_df, year)"
      ]
    },
    {
      "cell_type": "markdown",
      "metadata": {},
      "source": [
        "# Dynamically scrape the pub_info about the author on the NSF award list"
      ]
    },
    {
      "cell_type": "markdown",
      "metadata": {},
      "source": [
        "- `pub_info_<year1>_<year2>` table\n",
        "    - first_name: first name of funded authors\n",
        "    - middle_name: middle name of funded authors\n",
        "    - last_name: last name of funded authors\n",
        "    - email: email address of funded authors\n",
        "    - Title: title of the publication (paper)\n",
        "    - Year: year of publication\n",
        "    - Cited by: number of citation in total\n",
        "    - Paper URL: url that leads to paper details (e.g., abstract) after one click\n",
        "    - Authors: all authors of the publication\n",
        "    - Publication date: specific date of publication\n",
        "    - Journal: journal of the article\n",
        "    - Abstract: abstract of funded authors' one specific paper\n",
        "    - Citations: yearly breakdown of citation (a dictionary)"
      ]
    },
    {
      "cell_type": "code",
      "execution_count": null,
      "metadata": {},
      "outputs": [],
      "source": [
        "if not os.path.exists(f\"database/pub_info_{year}.csv\"):\n",
        "    get_pub_info.generate_pub_info_table(year)"
      ]
    }
  ],
  "metadata": {
    "colab": {
      "provenance": []
    },
    "kernelspec": {
      "display_name": "base",
      "language": "python",
      "name": "python3"
    },
    "language_info": {
      "codemirror_mode": {
        "name": "ipython",
        "version": 3
      },
      "file_extension": ".py",
      "mimetype": "text/x-python",
      "name": "python",
      "nbconvert_exporter": "python",
      "pygments_lexer": "ipython3",
      "version": "3.11.4"
    }
  },
  "nbformat": 4,
  "nbformat_minor": 0
}
